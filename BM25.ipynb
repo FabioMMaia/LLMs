{
  "nbformat": 4,
  "nbformat_minor": 0,
  "metadata": {
    "colab": {
      "provenance": [],
      "authorship_tag": "ABX9TyPTcUL+eS/I3QayVwwt/zIH",
      "include_colab_link": true
    },
    "kernelspec": {
      "name": "python3",
      "display_name": "Python 3"
    },
    "language_info": {
      "name": "python"
    }
  },
  "cells": [
    {
      "cell_type": "markdown",
      "metadata": {
        "id": "view-in-github",
        "colab_type": "text"
      },
      "source": [
        "<a href=\"https://colab.research.google.com/github/FabioMMaia/LLMs/blob/main/BM25.ipynb\" target=\"_parent\"><img src=\"https://colab.research.google.com/assets/colab-badge.svg\" alt=\"Open In Colab\"/></a>"
      ]
    },
    {
      "cell_type": "code",
      "source": [
        "# !pip install gensim"
      ],
      "metadata": {
        "colab": {
          "base_uri": "https://localhost:8080/"
        },
        "id": "yXUMdn_KaEzu",
        "outputId": "905c832b-7752-409d-a2f9-13341e37ab3c"
      },
      "execution_count": null,
      "outputs": [
        {
          "output_type": "stream",
          "name": "stdout",
          "text": [
            "Requirement already satisfied: gensim in /usr/local/lib/python3.10/dist-packages (4.3.2)\n",
            "Requirement already satisfied: numpy>=1.18.5 in /usr/local/lib/python3.10/dist-packages (from gensim) (1.25.2)\n",
            "Requirement already satisfied: scipy>=1.7.0 in /usr/local/lib/python3.10/dist-packages (from gensim) (1.11.4)\n",
            "Requirement already satisfied: smart-open>=1.8.1 in /usr/local/lib/python3.10/dist-packages (from gensim) (7.0.4)\n",
            "Requirement already satisfied: wrapt in /usr/local/lib/python3.10/dist-packages (from smart-open>=1.8.1->gensim) (1.14.1)\n"
          ]
        }
      ]
    },
    {
      "cell_type": "code",
      "source": [
        "# !pip install rank_bm25"
      ],
      "metadata": {
        "colab": {
          "base_uri": "https://localhost:8080/"
        },
        "id": "ud_kM-qwaxNx",
        "outputId": "75876197-ccfc-432f-f449-8d79fd581450"
      },
      "execution_count": null,
      "outputs": [
        {
          "output_type": "stream",
          "name": "stdout",
          "text": [
            "Collecting rank_bm25\n",
            "  Downloading rank_bm25-0.2.2-py3-none-any.whl (8.6 kB)\n",
            "Requirement already satisfied: numpy in /usr/local/lib/python3.10/dist-packages (from rank_bm25) (1.25.2)\n",
            "Installing collected packages: rank_bm25\n",
            "Successfully installed rank_bm25-0.2.2\n"
          ]
        }
      ]
    },
    {
      "cell_type": "code",
      "execution_count": null,
      "metadata": {
        "id": "T1GUvLbLZrv7"
      },
      "outputs": [],
      "source": [
        "from rank_bm25 import BM25Okapi\n",
        "\n",
        "corpus = [\n",
        "    \"Hello there good man!\",\n",
        "    \"It is quite windy in London\",\n",
        "    \"How is the weather today?\"\n",
        "]\n",
        "\n",
        "tokenized_corpus = [doc.split(\" \") for doc in corpus]\n",
        "\n",
        "bm25 = BM25Okapi(tokenized_corpus)"
      ]
    },
    {
      "cell_type": "code",
      "source": [
        "query = \"windy London\"\n",
        "tokenized_query = query.split(\" \")\n",
        "\n",
        "doc_scores = bm25.get_scores(tokenized_query)\n",
        "doc_scores"
      ],
      "metadata": {
        "colab": {
          "base_uri": "https://localhost:8080/"
        },
        "id": "7ZY_Kh_RZsse",
        "outputId": "781b4848-4ca7-47eb-94e4-ae33bac31c38"
      },
      "execution_count": null,
      "outputs": [
        {
          "output_type": "execute_result",
          "data": {
            "text/plain": [
              "array([0.        , 0.93729472, 0.        ])"
            ]
          },
          "metadata": {},
          "execution_count": 13
        }
      ]
    },
    {
      "cell_type": "code",
      "source": [
        "bm25.get_top_n(tokenized_query, corpus, n=1)"
      ],
      "metadata": {
        "colab": {
          "base_uri": "https://localhost:8080/"
        },
        "id": "ueem3U3Wa42Q",
        "outputId": "d7b53f65-fc93-4837-b47d-75a673b6f2dd"
      },
      "execution_count": null,
      "outputs": [
        {
          "output_type": "execute_result",
          "data": {
            "text/plain": [
              "['It is quite windy in London']"
            ]
          },
          "metadata": {},
          "execution_count": 14
        }
      ]
    },
    {
      "cell_type": "code",
      "source": [
        "pip install rank-bm25 langchain PyMuPDF"
      ],
      "metadata": {
        "colab": {
          "base_uri": "https://localhost:8080/"
        },
        "id": "S8htKiPdbHmX",
        "outputId": "412038fa-860d-44c4-961b-a5ad39735dd0"
      },
      "execution_count": 16,
      "outputs": [
        {
          "output_type": "stream",
          "name": "stdout",
          "text": [
            "Requirement already satisfied: rank-bm25 in /usr/local/lib/python3.10/dist-packages (0.2.2)\n",
            "Requirement already satisfied: langchain in /usr/local/lib/python3.10/dist-packages (0.2.10)\n",
            "Requirement already satisfied: PyMuPDF in /usr/local/lib/python3.10/dist-packages (1.24.7)\n",
            "Requirement already satisfied: numpy in /usr/local/lib/python3.10/dist-packages (from rank-bm25) (1.25.2)\n",
            "Requirement already satisfied: PyYAML>=5.3 in /usr/local/lib/python3.10/dist-packages (from langchain) (6.0.1)\n",
            "Requirement already satisfied: SQLAlchemy<3,>=1.4 in /usr/local/lib/python3.10/dist-packages (from langchain) (2.0.31)\n",
            "Requirement already satisfied: aiohttp<4.0.0,>=3.8.3 in /usr/local/lib/python3.10/dist-packages (from langchain) (3.9.5)\n",
            "Requirement already satisfied: async-timeout<5.0.0,>=4.0.0 in /usr/local/lib/python3.10/dist-packages (from langchain) (4.0.3)\n",
            "Requirement already satisfied: langchain-core<0.3.0,>=0.2.22 in /usr/local/lib/python3.10/dist-packages (from langchain) (0.2.22)\n",
            "Requirement already satisfied: langchain-text-splitters<0.3.0,>=0.2.0 in /usr/local/lib/python3.10/dist-packages (from langchain) (0.2.2)\n",
            "Requirement already satisfied: langsmith<0.2.0,>=0.1.17 in /usr/local/lib/python3.10/dist-packages (from langchain) (0.1.93)\n",
            "Requirement already satisfied: pydantic<3,>=1 in /usr/local/lib/python3.10/dist-packages (from langchain) (2.8.2)\n",
            "Requirement already satisfied: requests<3,>=2 in /usr/local/lib/python3.10/dist-packages (from langchain) (2.31.0)\n",
            "Requirement already satisfied: tenacity!=8.4.0,<9.0.0,>=8.1.0 in /usr/local/lib/python3.10/dist-packages (from langchain) (8.5.0)\n",
            "Requirement already satisfied: PyMuPDFb==1.24.6 in /usr/local/lib/python3.10/dist-packages (from PyMuPDF) (1.24.6)\n",
            "Requirement already satisfied: aiosignal>=1.1.2 in /usr/local/lib/python3.10/dist-packages (from aiohttp<4.0.0,>=3.8.3->langchain) (1.3.1)\n",
            "Requirement already satisfied: attrs>=17.3.0 in /usr/local/lib/python3.10/dist-packages (from aiohttp<4.0.0,>=3.8.3->langchain) (23.2.0)\n",
            "Requirement already satisfied: frozenlist>=1.1.1 in /usr/local/lib/python3.10/dist-packages (from aiohttp<4.0.0,>=3.8.3->langchain) (1.4.1)\n",
            "Requirement already satisfied: multidict<7.0,>=4.5 in /usr/local/lib/python3.10/dist-packages (from aiohttp<4.0.0,>=3.8.3->langchain) (6.0.5)\n",
            "Requirement already satisfied: yarl<2.0,>=1.0 in /usr/local/lib/python3.10/dist-packages (from aiohttp<4.0.0,>=3.8.3->langchain) (1.9.4)\n",
            "Requirement already satisfied: jsonpatch<2.0,>=1.33 in /usr/local/lib/python3.10/dist-packages (from langchain-core<0.3.0,>=0.2.22->langchain) (1.33)\n",
            "Requirement already satisfied: packaging<25,>=23.2 in /usr/local/lib/python3.10/dist-packages (from langchain-core<0.3.0,>=0.2.22->langchain) (24.1)\n",
            "Requirement already satisfied: orjson<4.0.0,>=3.9.14 in /usr/local/lib/python3.10/dist-packages (from langsmith<0.2.0,>=0.1.17->langchain) (3.10.6)\n",
            "Requirement already satisfied: annotated-types>=0.4.0 in /usr/local/lib/python3.10/dist-packages (from pydantic<3,>=1->langchain) (0.7.0)\n",
            "Requirement already satisfied: pydantic-core==2.20.1 in /usr/local/lib/python3.10/dist-packages (from pydantic<3,>=1->langchain) (2.20.1)\n",
            "Requirement already satisfied: typing-extensions>=4.6.1 in /usr/local/lib/python3.10/dist-packages (from pydantic<3,>=1->langchain) (4.12.2)\n",
            "Requirement already satisfied: charset-normalizer<4,>=2 in /usr/local/lib/python3.10/dist-packages (from requests<3,>=2->langchain) (3.3.2)\n",
            "Requirement already satisfied: idna<4,>=2.5 in /usr/local/lib/python3.10/dist-packages (from requests<3,>=2->langchain) (3.7)\n",
            "Requirement already satisfied: urllib3<3,>=1.21.1 in /usr/local/lib/python3.10/dist-packages (from requests<3,>=2->langchain) (2.0.7)\n",
            "Requirement already satisfied: certifi>=2017.4.17 in /usr/local/lib/python3.10/dist-packages (from requests<3,>=2->langchain) (2024.7.4)\n",
            "Requirement already satisfied: greenlet!=0.4.17 in /usr/local/lib/python3.10/dist-packages (from SQLAlchemy<3,>=1.4->langchain) (3.0.3)\n",
            "Requirement already satisfied: jsonpointer>=1.9 in /usr/local/lib/python3.10/dist-packages (from jsonpatch<2.0,>=1.33->langchain-core<0.3.0,>=0.2.22->langchain) (3.0.0)\n"
          ]
        }
      ]
    },
    {
      "cell_type": "code",
      "source": [
        "pip install --upgrade langchain"
      ],
      "metadata": {
        "colab": {
          "base_uri": "https://localhost:8080/"
        },
        "id": "EsWlazEyejQN",
        "outputId": "80d017ce-3f90-43b2-bb32-346d6109e2f7"
      },
      "execution_count": 20,
      "outputs": [
        {
          "output_type": "stream",
          "name": "stdout",
          "text": [
            "Requirement already satisfied: langchain in /usr/local/lib/python3.10/dist-packages (0.2.10)\n",
            "Requirement already satisfied: PyYAML>=5.3 in /usr/local/lib/python3.10/dist-packages (from langchain) (6.0.1)\n",
            "Requirement already satisfied: SQLAlchemy<3,>=1.4 in /usr/local/lib/python3.10/dist-packages (from langchain) (2.0.31)\n",
            "Requirement already satisfied: aiohttp<4.0.0,>=3.8.3 in /usr/local/lib/python3.10/dist-packages (from langchain) (3.9.5)\n",
            "Requirement already satisfied: async-timeout<5.0.0,>=4.0.0 in /usr/local/lib/python3.10/dist-packages (from langchain) (4.0.3)\n",
            "Requirement already satisfied: langchain-core<0.3.0,>=0.2.22 in /usr/local/lib/python3.10/dist-packages (from langchain) (0.2.22)\n",
            "Requirement already satisfied: langchain-text-splitters<0.3.0,>=0.2.0 in /usr/local/lib/python3.10/dist-packages (from langchain) (0.2.2)\n",
            "Requirement already satisfied: langsmith<0.2.0,>=0.1.17 in /usr/local/lib/python3.10/dist-packages (from langchain) (0.1.93)\n",
            "Requirement already satisfied: numpy<2,>=1 in /usr/local/lib/python3.10/dist-packages (from langchain) (1.25.2)\n",
            "Requirement already satisfied: pydantic<3,>=1 in /usr/local/lib/python3.10/dist-packages (from langchain) (2.8.2)\n",
            "Requirement already satisfied: requests<3,>=2 in /usr/local/lib/python3.10/dist-packages (from langchain) (2.31.0)\n",
            "Requirement already satisfied: tenacity!=8.4.0,<9.0.0,>=8.1.0 in /usr/local/lib/python3.10/dist-packages (from langchain) (8.5.0)\n",
            "Requirement already satisfied: aiosignal>=1.1.2 in /usr/local/lib/python3.10/dist-packages (from aiohttp<4.0.0,>=3.8.3->langchain) (1.3.1)\n",
            "Requirement already satisfied: attrs>=17.3.0 in /usr/local/lib/python3.10/dist-packages (from aiohttp<4.0.0,>=3.8.3->langchain) (23.2.0)\n",
            "Requirement already satisfied: frozenlist>=1.1.1 in /usr/local/lib/python3.10/dist-packages (from aiohttp<4.0.0,>=3.8.3->langchain) (1.4.1)\n",
            "Requirement already satisfied: multidict<7.0,>=4.5 in /usr/local/lib/python3.10/dist-packages (from aiohttp<4.0.0,>=3.8.3->langchain) (6.0.5)\n",
            "Requirement already satisfied: yarl<2.0,>=1.0 in /usr/local/lib/python3.10/dist-packages (from aiohttp<4.0.0,>=3.8.3->langchain) (1.9.4)\n",
            "Requirement already satisfied: jsonpatch<2.0,>=1.33 in /usr/local/lib/python3.10/dist-packages (from langchain-core<0.3.0,>=0.2.22->langchain) (1.33)\n",
            "Requirement already satisfied: packaging<25,>=23.2 in /usr/local/lib/python3.10/dist-packages (from langchain-core<0.3.0,>=0.2.22->langchain) (24.1)\n",
            "Requirement already satisfied: orjson<4.0.0,>=3.9.14 in /usr/local/lib/python3.10/dist-packages (from langsmith<0.2.0,>=0.1.17->langchain) (3.10.6)\n",
            "Requirement already satisfied: annotated-types>=0.4.0 in /usr/local/lib/python3.10/dist-packages (from pydantic<3,>=1->langchain) (0.7.0)\n",
            "Requirement already satisfied: pydantic-core==2.20.1 in /usr/local/lib/python3.10/dist-packages (from pydantic<3,>=1->langchain) (2.20.1)\n",
            "Requirement already satisfied: typing-extensions>=4.6.1 in /usr/local/lib/python3.10/dist-packages (from pydantic<3,>=1->langchain) (4.12.2)\n",
            "Requirement already satisfied: charset-normalizer<4,>=2 in /usr/local/lib/python3.10/dist-packages (from requests<3,>=2->langchain) (3.3.2)\n",
            "Requirement already satisfied: idna<4,>=2.5 in /usr/local/lib/python3.10/dist-packages (from requests<3,>=2->langchain) (3.7)\n",
            "Requirement already satisfied: urllib3<3,>=1.21.1 in /usr/local/lib/python3.10/dist-packages (from requests<3,>=2->langchain) (2.0.7)\n",
            "Requirement already satisfied: certifi>=2017.4.17 in /usr/local/lib/python3.10/dist-packages (from requests<3,>=2->langchain) (2024.7.4)\n",
            "Requirement already satisfied: greenlet!=0.4.17 in /usr/local/lib/python3.10/dist-packages (from SQLAlchemy<3,>=1.4->langchain) (3.0.3)\n",
            "Requirement already satisfied: jsonpointer>=1.9 in /usr/local/lib/python3.10/dist-packages (from jsonpatch<2.0,>=1.33->langchain-core<0.3.0,>=0.2.22->langchain) (3.0.0)\n"
          ]
        }
      ]
    },
    {
      "cell_type": "code",
      "source": [
        "from google.colab import drive\n",
        "import os\n",
        "drive.mount('/content/drive')\n",
        "wd = '/content/drive/MyDrive/Mestrado/POLI/BM25'\n",
        "os.chdir(wd)"
      ],
      "metadata": {
        "id": "kfub2dZJc1iQ",
        "colab": {
          "base_uri": "https://localhost:8080/"
        },
        "outputId": "35aba494-9c66-4c2b-b4e8-5ca4c842f740"
      },
      "execution_count": 18,
      "outputs": [
        {
          "output_type": "stream",
          "name": "stdout",
          "text": [
            "Drive already mounted at /content/drive; to attempt to forcibly remount, call drive.mount(\"/content/drive\", force_remount=True).\n"
          ]
        }
      ]
    },
    {
      "cell_type": "code",
      "source": [
        "pip install langchain-community langchain-core openai"
      ],
      "metadata": {
        "colab": {
          "base_uri": "https://localhost:8080/"
        },
        "id": "HQ02BGo8eqPK",
        "outputId": "199b940f-d06d-4efd-f367-0cd9cbf392a8"
      },
      "execution_count": 31,
      "outputs": [
        {
          "output_type": "stream",
          "name": "stdout",
          "text": [
            "Requirement already satisfied: langchain-community in /usr/local/lib/python3.10/dist-packages (0.2.9)\n",
            "Requirement already satisfied: langchain-core in /usr/local/lib/python3.10/dist-packages (0.2.22)\n",
            "Collecting openai\n",
            "  Downloading openai-1.36.1-py3-none-any.whl (328 kB)\n",
            "\u001b[2K     \u001b[90m━━━━━━━━━━━━━━━━━━━━━━━━━━━━━━━━━━━━━━━━\u001b[0m \u001b[32m328.8/328.8 kB\u001b[0m \u001b[31m5.4 MB/s\u001b[0m eta \u001b[36m0:00:00\u001b[0m\n",
            "\u001b[?25hRequirement already satisfied: PyYAML>=5.3 in /usr/local/lib/python3.10/dist-packages (from langchain-community) (6.0.1)\n",
            "Requirement already satisfied: SQLAlchemy<3,>=1.4 in /usr/local/lib/python3.10/dist-packages (from langchain-community) (2.0.31)\n",
            "Requirement already satisfied: aiohttp<4.0.0,>=3.8.3 in /usr/local/lib/python3.10/dist-packages (from langchain-community) (3.9.5)\n",
            "Requirement already satisfied: dataclasses-json<0.7,>=0.5.7 in /usr/local/lib/python3.10/dist-packages (from langchain-community) (0.6.7)\n",
            "Requirement already satisfied: langchain<0.3.0,>=0.2.9 in /usr/local/lib/python3.10/dist-packages (from langchain-community) (0.2.10)\n",
            "Requirement already satisfied: langsmith<0.2.0,>=0.1.0 in /usr/local/lib/python3.10/dist-packages (from langchain-community) (0.1.93)\n",
            "Requirement already satisfied: numpy<2,>=1 in /usr/local/lib/python3.10/dist-packages (from langchain-community) (1.25.2)\n",
            "Requirement already satisfied: requests<3,>=2 in /usr/local/lib/python3.10/dist-packages (from langchain-community) (2.31.0)\n",
            "Requirement already satisfied: tenacity!=8.4.0,<9.0.0,>=8.1.0 in /usr/local/lib/python3.10/dist-packages (from langchain-community) (8.5.0)\n",
            "Requirement already satisfied: jsonpatch<2.0,>=1.33 in /usr/local/lib/python3.10/dist-packages (from langchain-core) (1.33)\n",
            "Requirement already satisfied: packaging<25,>=23.2 in /usr/local/lib/python3.10/dist-packages (from langchain-core) (24.1)\n",
            "Requirement already satisfied: pydantic<3,>=1 in /usr/local/lib/python3.10/dist-packages (from langchain-core) (2.8.2)\n",
            "Requirement already satisfied: anyio<5,>=3.5.0 in /usr/local/lib/python3.10/dist-packages (from openai) (3.7.1)\n",
            "Requirement already satisfied: distro<2,>=1.7.0 in /usr/lib/python3/dist-packages (from openai) (1.7.0)\n",
            "Collecting httpx<1,>=0.23.0 (from openai)\n",
            "  Downloading httpx-0.27.0-py3-none-any.whl (75 kB)\n",
            "\u001b[2K     \u001b[90m━━━━━━━━━━━━━━━━━━━━━━━━━━━━━━━━━━━━━━━━\u001b[0m \u001b[32m75.6/75.6 kB\u001b[0m \u001b[31m8.0 MB/s\u001b[0m eta \u001b[36m0:00:00\u001b[0m\n",
            "\u001b[?25hRequirement already satisfied: sniffio in /usr/local/lib/python3.10/dist-packages (from openai) (1.3.1)\n",
            "Requirement already satisfied: tqdm>4 in /usr/local/lib/python3.10/dist-packages (from openai) (4.66.4)\n",
            "Requirement already satisfied: typing-extensions<5,>=4.7 in /usr/local/lib/python3.10/dist-packages (from openai) (4.12.2)\n",
            "Requirement already satisfied: aiosignal>=1.1.2 in /usr/local/lib/python3.10/dist-packages (from aiohttp<4.0.0,>=3.8.3->langchain-community) (1.3.1)\n",
            "Requirement already satisfied: attrs>=17.3.0 in /usr/local/lib/python3.10/dist-packages (from aiohttp<4.0.0,>=3.8.3->langchain-community) (23.2.0)\n",
            "Requirement already satisfied: frozenlist>=1.1.1 in /usr/local/lib/python3.10/dist-packages (from aiohttp<4.0.0,>=3.8.3->langchain-community) (1.4.1)\n",
            "Requirement already satisfied: multidict<7.0,>=4.5 in /usr/local/lib/python3.10/dist-packages (from aiohttp<4.0.0,>=3.8.3->langchain-community) (6.0.5)\n",
            "Requirement already satisfied: yarl<2.0,>=1.0 in /usr/local/lib/python3.10/dist-packages (from aiohttp<4.0.0,>=3.8.3->langchain-community) (1.9.4)\n",
            "Requirement already satisfied: async-timeout<5.0,>=4.0 in /usr/local/lib/python3.10/dist-packages (from aiohttp<4.0.0,>=3.8.3->langchain-community) (4.0.3)\n",
            "Requirement already satisfied: idna>=2.8 in /usr/local/lib/python3.10/dist-packages (from anyio<5,>=3.5.0->openai) (3.7)\n",
            "Requirement already satisfied: exceptiongroup in /usr/local/lib/python3.10/dist-packages (from anyio<5,>=3.5.0->openai) (1.2.2)\n",
            "Requirement already satisfied: marshmallow<4.0.0,>=3.18.0 in /usr/local/lib/python3.10/dist-packages (from dataclasses-json<0.7,>=0.5.7->langchain-community) (3.21.3)\n",
            "Requirement already satisfied: typing-inspect<1,>=0.4.0 in /usr/local/lib/python3.10/dist-packages (from dataclasses-json<0.7,>=0.5.7->langchain-community) (0.9.0)\n",
            "Requirement already satisfied: certifi in /usr/local/lib/python3.10/dist-packages (from httpx<1,>=0.23.0->openai) (2024.7.4)\n",
            "Collecting httpcore==1.* (from httpx<1,>=0.23.0->openai)\n",
            "  Downloading httpcore-1.0.5-py3-none-any.whl (77 kB)\n",
            "\u001b[2K     \u001b[90m━━━━━━━━━━━━━━━━━━━━━━━━━━━━━━━━━━━━━━━━\u001b[0m \u001b[32m77.9/77.9 kB\u001b[0m \u001b[31m7.0 MB/s\u001b[0m eta \u001b[36m0:00:00\u001b[0m\n",
            "\u001b[?25hCollecting h11<0.15,>=0.13 (from httpcore==1.*->httpx<1,>=0.23.0->openai)\n",
            "  Downloading h11-0.14.0-py3-none-any.whl (58 kB)\n",
            "\u001b[2K     \u001b[90m━━━━━━━━━━━━━━━━━━━━━━━━━━━━━━━━━━━━━━━━\u001b[0m \u001b[32m58.3/58.3 kB\u001b[0m \u001b[31m6.9 MB/s\u001b[0m eta \u001b[36m0:00:00\u001b[0m\n",
            "\u001b[?25hRequirement already satisfied: jsonpointer>=1.9 in /usr/local/lib/python3.10/dist-packages (from jsonpatch<2.0,>=1.33->langchain-core) (3.0.0)\n",
            "Requirement already satisfied: langchain-text-splitters<0.3.0,>=0.2.0 in /usr/local/lib/python3.10/dist-packages (from langchain<0.3.0,>=0.2.9->langchain-community) (0.2.2)\n",
            "Requirement already satisfied: orjson<4.0.0,>=3.9.14 in /usr/local/lib/python3.10/dist-packages (from langsmith<0.2.0,>=0.1.0->langchain-community) (3.10.6)\n",
            "Requirement already satisfied: annotated-types>=0.4.0 in /usr/local/lib/python3.10/dist-packages (from pydantic<3,>=1->langchain-core) (0.7.0)\n",
            "Requirement already satisfied: pydantic-core==2.20.1 in /usr/local/lib/python3.10/dist-packages (from pydantic<3,>=1->langchain-core) (2.20.1)\n",
            "Requirement already satisfied: charset-normalizer<4,>=2 in /usr/local/lib/python3.10/dist-packages (from requests<3,>=2->langchain-community) (3.3.2)\n",
            "Requirement already satisfied: urllib3<3,>=1.21.1 in /usr/local/lib/python3.10/dist-packages (from requests<3,>=2->langchain-community) (2.0.7)\n",
            "Requirement already satisfied: greenlet!=0.4.17 in /usr/local/lib/python3.10/dist-packages (from SQLAlchemy<3,>=1.4->langchain-community) (3.0.3)\n",
            "Requirement already satisfied: mypy-extensions>=0.3.0 in /usr/local/lib/python3.10/dist-packages (from typing-inspect<1,>=0.4.0->dataclasses-json<0.7,>=0.5.7->langchain-community) (1.0.0)\n",
            "Installing collected packages: h11, httpcore, httpx, openai\n",
            "Successfully installed h11-0.14.0 httpcore-1.0.5 httpx-0.27.0 openai-1.36.1\n"
          ]
        }
      ]
    },
    {
      "cell_type": "code",
      "source": [
        "import os\n",
        "import fitz  # PyMuPDF\n",
        "from rank_bm25 import BM25Okapi\n",
        "from nltk.tokenize import word_tokenize\n",
        "import nltk\n",
        "from langchain.text_splitter import RecursiveCharacterTextSplitter\n",
        "from langchain import PromptTemplate, LLMChain, OpenAI\n",
        "\n",
        "# Certifique-se de que o NLTK está instalado\n",
        "nltk.download('punkt')\n",
        "\n",
        "def extrair_texto_do_pdf(pdf_path):\n",
        "    doc = fitz.open(pdf_path)\n",
        "    text = \"\"\n",
        "    for page_num in range(len(doc)):\n",
        "        page = doc.load_page(page_num)\n",
        "        text += page.get_text()\n",
        "    return text\n",
        "\n",
        "# Função para dividir o texto usando RecursiveCharacterTextSplitter\n",
        "def dividir_texto(text):\n",
        "    splitter = RecursiveCharacterTextSplitter(\n",
        "        chunk_size=1000,  # Ajuste o tamanho do chunk conforme necessário\n",
        "        chunk_overlap=50  # Ajuste a sobreposição conforme necessário\n",
        "    )\n",
        "    return splitter.split_text(text)\n",
        "\n",
        "# Caminho para a pasta que contém os PDFs\n",
        "pasta_pdfs = \"./pdfs\"\n",
        "\n",
        "# Listar todos os arquivos PDF na pasta\n",
        "arquivos_pdfs = [f for f in os.listdir(pasta_pdfs) if f.endswith('.pdf')]\n",
        "\n",
        "# Extrair e dividir texto dos PDFs preservando os rótulos\n",
        "documentos = []\n",
        "for arquivo_pdf in arquivos_pdfs:\n",
        "    caminho_pdf = os.path.join(pasta_pdfs, arquivo_pdf)\n",
        "    pdf_texto = extrair_texto_do_pdf(caminho_pdf)\n",
        "    chunks = dividir_texto(pdf_texto)\n",
        "    for chunk in chunks:\n",
        "        documentos.append({\"texto\": chunk, \"label\": arquivo_pdf})\n",
        "\n",
        "# Tokenizar o corpus\n",
        "documentos_tokenizados = [word_tokenize(doc[\"texto\"].lower()) for doc in documentos]\n",
        "\n",
        "# Inicializar o BM25\n",
        "bm25 = BM25Okapi(documentos_tokenizados)\n",
        "\n",
        "# Definir a consulta\n",
        "consulta = \"Qual prazo do plano de ação?\"\n",
        "consulta_tokenizada = word_tokenize(consulta.lower())\n",
        "\n",
        "# Obter scores do BM25\n",
        "scores = bm25.get_scores(consulta_tokenizada)\n",
        "\n",
        "# Ordenar os documentos por score\n",
        "documentos_classificados = sorted(zip(scores, documentos), reverse=True, key=lambda x: x[0])\n",
        "\n",
        "# Selecionar os top N documentos\n",
        "top_n = 3\n",
        "top_documentos = [doc for _, doc in documentos_classificados[:top_n]]"
      ],
      "metadata": {
        "id": "8PSM6zdIcjwI",
        "colab": {
          "base_uri": "https://localhost:8080/"
        },
        "outputId": "177171ff-3dba-4b5a-d8ff-ae8f9d99af07"
      },
      "execution_count": 25,
      "outputs": [
        {
          "output_type": "stream",
          "name": "stderr",
          "text": [
            "[nltk_data] Downloading package punkt to /root/nltk_data...\n",
            "[nltk_data]   Package punkt is already up-to-date!\n"
          ]
        }
      ]
    },
    {
      "cell_type": "code",
      "source": [
        "top_documentos"
      ],
      "metadata": {
        "colab": {
          "base_uri": "https://localhost:8080/"
        },
        "id": "dSYnlhx0fA1B",
        "outputId": "f849f5b2-85d9-4afd-e9ff-eb6574588fd6"
      },
      "execution_count": 26,
      "outputs": [
        {
          "output_type": "execute_result",
          "data": {
            "text/plain": [
              "[{'texto': '§ 2o  No requerimento enviado à SUSEP deverá constar o plano de ação e o \\nprazo de implementação de cada item de deficiência. \\n  \\n§ 3o  Os prazos para implementação dos planos de ação serão contados a partir \\nda data de protocolo do requerimento na SUSEP. \\n \\n§ 4o  Os prazos para saneamento das deficiências poderão ser diferenciados, em \\nfunção da complexidade para resolução das mesmas. \\n  \\nArt. 3o  Os prazos para saneamento das deficiências não deverão ser maiores que \\n90 (noventa) dias e, na hipótese de requerimento com  prazo superior, a sociedade/entidade \\ndeverá justificar detalhadamente os motivos que impedem a solução da deficiência em \\nprazo inferior, ficando  a critério do Conselho Diretor  da SUSEP o deferimento do pleito. \\n \\nArt. 4o  Caso a sociedade/entidade apresente, em conjunto com o requerimento \\nde que trata o art. 2o, contestação quanto a 1 (uma) ou mais deficiências encontradas, e a',\n",
              "  'label': '22027_6744.pdf'},\n",
              " {'texto': 'SUSEP a(s) considere improcedente(s), a sociedade/entidade será notificada para apresentar \\no(s) plano(s) de ação referente(s) à(s) deficiência(s) contestada(s) em até 30 (trinta) dias, \\ncontados a partir do recebimento do Ofício de notificação. \\n \\nParágrafo único.  Os prazos para implementação dos planos de ação serão \\ncontados a partir da data de protocolo do requerimento na SUSEP. \\n \\nArt. 5o A Auditoria Interna da sociedade/entidade deverá acompanhar a \\nexecução dos planos de ação. \\n \\nParágrafo único.  A sociedade/entidade deverá encaminhar à SUSEP relatório \\nvalidado pela Auditoria Interna caso seja identificado descumprimento dos prazos \\nconstantes dos planos de ação aprovados. \\n \\nArt. 6o  Caso as deficiências encontradas não tenham sido saneadas após o \\ntérmino dos  prazos concedidos pela SUSEP, caracterizar-se-ão como irregularidades, e \\nsujeitarão a sociedade/entidade à aplicação das penalidades cabíveis. \\n \\n \\n \\n \\n \\n \\n \\nJOÃO MARCELO M. R. DOS SANTOS',\n",
              "  'label': '22027_6744.pdf'},\n",
              " {'texto': 'I - em 2 de janeiro de 2023, para o art. 2º; e\\nII - em 2 de janeiro 2024, para os demais artigos.\\nDocumento assinado eletronicamente por ALEXANDRE MILANESE CAMILLO\\n(MATRÍCULA 3257886), Superintendente da Susep, em 11/10/2022, às\\n19:49, conforme horário oficial de Brasília, com fundamento no § 3º do art. 4º\\ndo Decreto nº 10.543/2020.\\nA autenticidade do documento pode ser conferida no site\\nhttps://sei.susep.gov.br/sei/controlador_externo.php?\\nacao=documento_conferir&acao_origem=documento_conferir&id_orgao_acesso_externo=0\\ninformando o código verificador 1474711 e o código CRC 4DA1ABF7.\\n \\nReferência: Processo nº 15414.602210/2022-66\\nSEI nº 1474711\\nNORMA - Circular 678 (1474711)         SEI 15414.602210/2022-66 / pg. 12',\n",
              "  'label': '51702_26576.pdf'}]"
            ]
          },
          "metadata": {},
          "execution_count": 26
        }
      ]
    },
    {
      "cell_type": "code",
      "source": [
        "# Integrar com LangChain\n",
        "template_prompt = \"\"\"\n",
        "Com base nos seguintes documentos:\n",
        "{documentos}\n",
        "\n",
        "Responda à seguinte pergunta:\n",
        "{pergunta}\n",
        "\"\"\"\n",
        "\n",
        "prompt = PromptTemplate(input_variables=[\"documentos\", \"pergunta\"], template=template_prompt)"
      ],
      "metadata": {
        "id": "T1lRaa1ieUCc"
      },
      "execution_count": 27,
      "outputs": []
    },
    {
      "cell_type": "code",
      "source": [
        "with open(\"/content/drive/MyDrive/Projeto ML/2024/LLMs_RAGs_estudo/openai_key.txt\", \"r\") as f:\n",
        "  openai_key = f.read()\n",
        "\n",
        "os.environ['OPENAI_API_KEY'] = openai_key"
      ],
      "metadata": {
        "id": "CSQR0S5afi78"
      },
      "execution_count": 29,
      "outputs": []
    },
    {
      "cell_type": "code",
      "source": [],
      "metadata": {
        "id": "DYpZ0y-rf-Ca"
      },
      "execution_count": null,
      "outputs": []
    },
    {
      "cell_type": "code",
      "source": [
        "llm = OpenAI(temperature=0.7)\n",
        "\n",
        "chain = LLMChain(llm=llm, prompt=prompt)\n",
        "\n",
        "# Construir o input para o LangChain\n",
        "documentos_str = \"\\n\".join([f\"Do {doc['label']}:\\n{doc['texto']}\" for doc in top_documentos])\n",
        "pergunta = consulta\n",
        "\n",
        "input_data = {\"documentos\": documentos_str, \"pergunta\": pergunta}\n",
        "\n",
        "# Executar o LangChain\n",
        "resposta = chain(input_data)\n",
        "print(resposta)"
      ],
      "metadata": {
        "colab": {
          "base_uri": "https://localhost:8080/"
        },
        "id": "g5_umhbRe9to",
        "outputId": "80b74cdb-a79b-49ae-a0a1-0758fee5a5eb"
      },
      "execution_count": 34,
      "outputs": [
        {
          "output_type": "stream",
          "name": "stdout",
          "text": [
            "{'documentos': 'Do 22027_6744.pdf:\\n§ 2o  No requerimento enviado à SUSEP deverá constar o plano de ação e o \\nprazo de implementação de cada item de deficiência. \\n  \\n§ 3o  Os prazos para implementação dos planos de ação serão contados a partir \\nda data de protocolo do requerimento na SUSEP. \\n \\n§ 4o  Os prazos para saneamento das deficiências poderão ser diferenciados, em \\nfunção da complexidade para resolução das mesmas. \\n  \\nArt. 3o  Os prazos para saneamento das deficiências não deverão ser maiores que \\n90 (noventa) dias e, na hipótese de requerimento com  prazo superior, a sociedade/entidade \\ndeverá justificar detalhadamente os motivos que impedem a solução da deficiência em \\nprazo inferior, ficando  a critério do Conselho Diretor  da SUSEP o deferimento do pleito. \\n \\nArt. 4o  Caso a sociedade/entidade apresente, em conjunto com o requerimento \\nde que trata o art. 2o, contestação quanto a 1 (uma) ou mais deficiências encontradas, e a\\nDo 22027_6744.pdf:\\nSUSEP a(s) considere improcedente(s), a sociedade/entidade será notificada para apresentar \\no(s) plano(s) de ação referente(s) à(s) deficiência(s) contestada(s) em até 30 (trinta) dias, \\ncontados a partir do recebimento do Ofício de notificação. \\n \\nParágrafo único.  Os prazos para implementação dos planos de ação serão \\ncontados a partir da data de protocolo do requerimento na SUSEP. \\n \\nArt. 5o A Auditoria Interna da sociedade/entidade deverá acompanhar a \\nexecução dos planos de ação. \\n \\nParágrafo único.  A sociedade/entidade deverá encaminhar à SUSEP relatório \\nvalidado pela Auditoria Interna caso seja identificado descumprimento dos prazos \\nconstantes dos planos de ação aprovados. \\n \\nArt. 6o  Caso as deficiências encontradas não tenham sido saneadas após o \\ntérmino dos  prazos concedidos pela SUSEP, caracterizar-se-ão como irregularidades, e \\nsujeitarão a sociedade/entidade à aplicação das penalidades cabíveis. \\n \\n \\n \\n \\n \\n \\n \\nJOÃO MARCELO M. R. DOS SANTOS\\nDo 51702_26576.pdf:\\nI - em 2 de janeiro de 2023, para o art. 2º; e\\nII - em 2 de janeiro 2024, para os demais artigos.\\nDocumento assinado eletronicamente por ALEXANDRE MILANESE CAMILLO\\n(MATRÍCULA 3257886), Superintendente da Susep, em 11/10/2022, às\\n19:49, conforme horário oficial de Brasília, com fundamento no § 3º do art. 4º\\ndo Decreto nº 10.543/2020.\\nA autenticidade do documento pode ser conferida no site\\nhttps://sei.susep.gov.br/sei/controlador_externo.php?\\nacao=documento_conferir&acao_origem=documento_conferir&id_orgao_acesso_externo=0\\ninformando o código verificador 1474711 e o código CRC 4DA1ABF7.\\n \\nReferência: Processo nº 15414.602210/2022-66\\nSEI nº 1474711\\nNORMA - Circular 678 (1474711)         SEI 15414.602210/2022-66 / pg. 12', 'pergunta': 'Qual prazo do plano de ação?', 'text': '\\nO prazo do plano de ação é de 90 (noventa) dias, contados a partir da data de protocolo do requerimento na SUSEP, conforme estabelecido no § 3o do Art. 2o do documento Do 22027_6744.pdf.'}\n"
          ]
        }
      ]
    },
    {
      "cell_type": "code",
      "source": [
        "resposta['text']"
      ],
      "metadata": {
        "colab": {
          "base_uri": "https://localhost:8080/",
          "height": 36
        },
        "id": "B8iJoqIYf2X2",
        "outputId": "ca28eaf7-e39f-4823-9fcc-2134895abda2"
      },
      "execution_count": 37,
      "outputs": [
        {
          "output_type": "execute_result",
          "data": {
            "text/plain": [
              "'\\nO prazo do plano de ação é de 90 (noventa) dias, contados a partir da data de protocolo do requerimento na SUSEP, conforme estabelecido no § 3o do Art. 2o do documento Do 22027_6744.pdf.'"
            ],
            "application/vnd.google.colaboratory.intrinsic+json": {
              "type": "string"
            }
          },
          "metadata": {},
          "execution_count": 37
        }
      ]
    },
    {
      "cell_type": "code",
      "source": [
        "print(f\"Prompt enviado ao LangChain:\\n\\n{template_prompt.format(documentos=documentos_str, pergunta=pergunta)}\")\n"
      ],
      "metadata": {
        "colab": {
          "base_uri": "https://localhost:8080/"
        },
        "id": "PJ0EanWFgHsl",
        "outputId": "a1968563-f129-4df8-c1b1-d0fb22c99679"
      },
      "execution_count": 38,
      "outputs": [
        {
          "output_type": "stream",
          "name": "stdout",
          "text": [
            "Prompt enviado ao LangChain:\n",
            "\n",
            "\n",
            "Com base nos seguintes documentos:\n",
            "Do 22027_6744.pdf:\n",
            "§ 2o  No requerimento enviado à SUSEP deverá constar o plano de ação e o \n",
            "prazo de implementação de cada item de deficiência. \n",
            "  \n",
            "§ 3o  Os prazos para implementação dos planos de ação serão contados a partir \n",
            "da data de protocolo do requerimento na SUSEP. \n",
            " \n",
            "§ 4o  Os prazos para saneamento das deficiências poderão ser diferenciados, em \n",
            "função da complexidade para resolução das mesmas. \n",
            "  \n",
            "Art. 3o  Os prazos para saneamento das deficiências não deverão ser maiores que \n",
            "90 (noventa) dias e, na hipótese de requerimento com  prazo superior, a sociedade/entidade \n",
            "deverá justificar detalhadamente os motivos que impedem a solução da deficiência em \n",
            "prazo inferior, ficando  a critério do Conselho Diretor  da SUSEP o deferimento do pleito. \n",
            " \n",
            "Art. 4o  Caso a sociedade/entidade apresente, em conjunto com o requerimento \n",
            "de que trata o art. 2o, contestação quanto a 1 (uma) ou mais deficiências encontradas, e a\n",
            "Do 22027_6744.pdf:\n",
            "SUSEP a(s) considere improcedente(s), a sociedade/entidade será notificada para apresentar \n",
            "o(s) plano(s) de ação referente(s) à(s) deficiência(s) contestada(s) em até 30 (trinta) dias, \n",
            "contados a partir do recebimento do Ofício de notificação. \n",
            " \n",
            "Parágrafo único.  Os prazos para implementação dos planos de ação serão \n",
            "contados a partir da data de protocolo do requerimento na SUSEP. \n",
            " \n",
            "Art. 5o A Auditoria Interna da sociedade/entidade deverá acompanhar a \n",
            "execução dos planos de ação. \n",
            " \n",
            "Parágrafo único.  A sociedade/entidade deverá encaminhar à SUSEP relatório \n",
            "validado pela Auditoria Interna caso seja identificado descumprimento dos prazos \n",
            "constantes dos planos de ação aprovados. \n",
            " \n",
            "Art. 6o  Caso as deficiências encontradas não tenham sido saneadas após o \n",
            "término dos  prazos concedidos pela SUSEP, caracterizar-se-ão como irregularidades, e \n",
            "sujeitarão a sociedade/entidade à aplicação das penalidades cabíveis. \n",
            " \n",
            " \n",
            " \n",
            " \n",
            " \n",
            " \n",
            " \n",
            "JOÃO MARCELO M. R. DOS SANTOS\n",
            "Do 51702_26576.pdf:\n",
            "I - em 2 de janeiro de 2023, para o art. 2º; e\n",
            "II - em 2 de janeiro 2024, para os demais artigos.\n",
            "Documento assinado eletronicamente por ALEXANDRE MILANESE CAMILLO\n",
            "(MATRÍCULA 3257886), Superintendente da Susep, em 11/10/2022, às\n",
            "19:49, conforme horário oficial de Brasília, com fundamento no § 3º do art. 4º\n",
            "do Decreto nº 10.543/2020.\n",
            "A autenticidade do documento pode ser conferida no site\n",
            "https://sei.susep.gov.br/sei/controlador_externo.php?\n",
            "acao=documento_conferir&acao_origem=documento_conferir&id_orgao_acesso_externo=0\n",
            "informando o código verificador 1474711 e o código CRC 4DA1ABF7.\n",
            " \n",
            "Referência: Processo nº 15414.602210/2022-66\n",
            "SEI nº 1474711\n",
            "NORMA - Circular 678 (1474711)         SEI 15414.602210/2022-66 / pg. 12\n",
            "\n",
            "Responda à seguinte pergunta:\n",
            "Qual prazo do plano de ação?\n",
            "\n"
          ]
        }
      ]
    },
    {
      "cell_type": "code",
      "source": [],
      "metadata": {
        "id": "Evw8D6vbhG57"
      },
      "execution_count": null,
      "outputs": []
    }
  ]
}