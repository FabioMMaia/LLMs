{
  "nbformat": 4,
  "nbformat_minor": 0,
  "metadata": {
    "colab": {
      "provenance": [],
      "authorship_tag": "ABX9TyOJviCDQwoW3EXXmYDALE4x",
      "include_colab_link": true
    },
    "kernelspec": {
      "name": "python3",
      "display_name": "Python 3"
    },
    "language_info": {
      "name": "python"
    }
  },
  "cells": [
    {
      "cell_type": "markdown",
      "metadata": {
        "id": "view-in-github",
        "colab_type": "text"
      },
      "source": [
        "<a href=\"https://colab.research.google.com/github/FabioMMaia/LLMs/blob/main/BM25.ipynb\" target=\"_parent\"><img src=\"https://colab.research.google.com/assets/colab-badge.svg\" alt=\"Open In Colab\"/></a>"
      ]
    },
    {
      "cell_type": "code",
      "source": [
        "# !pip install gensim"
      ],
      "metadata": {
        "colab": {
          "base_uri": "https://localhost:8080/"
        },
        "id": "yXUMdn_KaEzu",
        "outputId": "905c832b-7752-409d-a2f9-13341e37ab3c"
      },
      "execution_count": null,
      "outputs": [
        {
          "output_type": "stream",
          "name": "stdout",
          "text": [
            "Requirement already satisfied: gensim in /usr/local/lib/python3.10/dist-packages (4.3.2)\n",
            "Requirement already satisfied: numpy>=1.18.5 in /usr/local/lib/python3.10/dist-packages (from gensim) (1.25.2)\n",
            "Requirement already satisfied: scipy>=1.7.0 in /usr/local/lib/python3.10/dist-packages (from gensim) (1.11.4)\n",
            "Requirement already satisfied: smart-open>=1.8.1 in /usr/local/lib/python3.10/dist-packages (from gensim) (7.0.4)\n",
            "Requirement already satisfied: wrapt in /usr/local/lib/python3.10/dist-packages (from smart-open>=1.8.1->gensim) (1.14.1)\n"
          ]
        }
      ]
    },
    {
      "cell_type": "code",
      "source": [
        "# !pip install rank_bm25"
      ],
      "metadata": {
        "colab": {
          "base_uri": "https://localhost:8080/"
        },
        "id": "ud_kM-qwaxNx",
        "outputId": "75876197-ccfc-432f-f449-8d79fd581450"
      },
      "execution_count": null,
      "outputs": [
        {
          "output_type": "stream",
          "name": "stdout",
          "text": [
            "Collecting rank_bm25\n",
            "  Downloading rank_bm25-0.2.2-py3-none-any.whl (8.6 kB)\n",
            "Requirement already satisfied: numpy in /usr/local/lib/python3.10/dist-packages (from rank_bm25) (1.25.2)\n",
            "Installing collected packages: rank_bm25\n",
            "Successfully installed rank_bm25-0.2.2\n"
          ]
        }
      ]
    },
    {
      "cell_type": "code",
      "execution_count": 2,
      "metadata": {
        "id": "T1GUvLbLZrv7"
      },
      "outputs": [],
      "source": [
        "# from rank_bm25 import BM25Okapi\n",
        "\n",
        "# corpus = [\n",
        "#     \"Hello there good man!\",\n",
        "#     \"It is quite windy in London\",\n",
        "#     \"How is the weather today?\"\n",
        "# ]\n",
        "\n",
        "# tokenized_corpus = [doc.split(\" \") for doc in corpus]\n",
        "\n",
        "# bm25 = BM25Okapi(tokenized_corpus)"
      ]
    },
    {
      "cell_type": "code",
      "source": [
        "# query = \"windy London\"\n",
        "# tokenized_query = query.split(\" \")\n",
        "\n",
        "# doc_scores = bm25.get_scores(tokenized_query)\n",
        "# doc_scores"
      ],
      "metadata": {
        "id": "7ZY_Kh_RZsse"
      },
      "execution_count": 3,
      "outputs": []
    },
    {
      "cell_type": "code",
      "source": [
        "# bm25.get_top_n(tokenized_query, corpus, n=1)"
      ],
      "metadata": {
        "colab": {
          "base_uri": "https://localhost:8080/"
        },
        "id": "ueem3U3Wa42Q",
        "outputId": "d7b53f65-fc93-4837-b47d-75a673b6f2dd"
      },
      "execution_count": null,
      "outputs": [
        {
          "output_type": "execute_result",
          "data": {
            "text/plain": [
              "['It is quite windy in London']"
            ]
          },
          "metadata": {},
          "execution_count": 14
        }
      ]
    },
    {
      "cell_type": "code",
      "source": [
        "pip install rank-bm25 langchain PyMuPDF"
      ],
      "metadata": {
        "colab": {
          "base_uri": "https://localhost:8080/"
        },
        "id": "S8htKiPdbHmX",
        "outputId": "126aa9b3-44b1-4fdd-f179-db388cd98954"
      },
      "execution_count": 4,
      "outputs": [
        {
          "output_type": "stream",
          "name": "stdout",
          "text": [
            "Collecting rank-bm25\n",
            "  Downloading rank_bm25-0.2.2-py3-none-any.whl (8.6 kB)\n",
            "Collecting langchain\n",
            "  Downloading langchain-0.2.10-py3-none-any.whl (990 kB)\n",
            "\u001b[2K     \u001b[90m━━━━━━━━━━━━━━━━━━━━━━━━━━━━━━━━━━━━━━━━\u001b[0m \u001b[32m990.0/990.0 kB\u001b[0m \u001b[31m14.3 MB/s\u001b[0m eta \u001b[36m0:00:00\u001b[0m\n",
            "\u001b[?25hCollecting PyMuPDF\n",
            "  Downloading PyMuPDF-1.24.8-cp310-none-manylinux2014_x86_64.whl (3.5 MB)\n",
            "\u001b[2K     \u001b[90m━━━━━━━━━━━━━━━━━━━━━━━━━━━━━━━━━━━━━━━━\u001b[0m \u001b[32m3.5/3.5 MB\u001b[0m \u001b[31m34.1 MB/s\u001b[0m eta \u001b[36m0:00:00\u001b[0m\n",
            "\u001b[?25hRequirement already satisfied: numpy in /usr/local/lib/python3.10/dist-packages (from rank-bm25) (1.25.2)\n",
            "Requirement already satisfied: PyYAML>=5.3 in /usr/local/lib/python3.10/dist-packages (from langchain) (6.0.1)\n",
            "Requirement already satisfied: SQLAlchemy<3,>=1.4 in /usr/local/lib/python3.10/dist-packages (from langchain) (2.0.31)\n",
            "Requirement already satisfied: aiohttp<4.0.0,>=3.8.3 in /usr/local/lib/python3.10/dist-packages (from langchain) (3.9.5)\n",
            "Requirement already satisfied: async-timeout<5.0.0,>=4.0.0 in /usr/local/lib/python3.10/dist-packages (from langchain) (4.0.3)\n",
            "Collecting langchain-core<0.3.0,>=0.2.22 (from langchain)\n",
            "  Downloading langchain_core-0.2.22-py3-none-any.whl (373 kB)\n",
            "\u001b[2K     \u001b[90m━━━━━━━━━━━━━━━━━━━━━━━━━━━━━━━━━━━━━━━━\u001b[0m \u001b[32m373.5/373.5 kB\u001b[0m \u001b[31m13.7 MB/s\u001b[0m eta \u001b[36m0:00:00\u001b[0m\n",
            "\u001b[?25hCollecting langchain-text-splitters<0.3.0,>=0.2.0 (from langchain)\n",
            "  Downloading langchain_text_splitters-0.2.2-py3-none-any.whl (25 kB)\n",
            "Collecting langsmith<0.2.0,>=0.1.17 (from langchain)\n",
            "  Downloading langsmith-0.1.93-py3-none-any.whl (139 kB)\n",
            "\u001b[2K     \u001b[90m━━━━━━━━━━━━━━━━━━━━━━━━━━━━━━━━━━━━━━━━\u001b[0m \u001b[32m139.8/139.8 kB\u001b[0m \u001b[31m7.6 MB/s\u001b[0m eta \u001b[36m0:00:00\u001b[0m\n",
            "\u001b[?25hRequirement already satisfied: pydantic<3,>=1 in /usr/local/lib/python3.10/dist-packages (from langchain) (2.8.2)\n",
            "Requirement already satisfied: requests<3,>=2 in /usr/local/lib/python3.10/dist-packages (from langchain) (2.31.0)\n",
            "Requirement already satisfied: tenacity!=8.4.0,<9.0.0,>=8.1.0 in /usr/local/lib/python3.10/dist-packages (from langchain) (8.5.0)\n",
            "Collecting PyMuPDFb==1.24.8 (from PyMuPDF)\n",
            "  Downloading PyMuPDFb-1.24.8-py3-none-manylinux2014_x86_64.manylinux_2_17_x86_64.whl (15.9 MB)\n",
            "\u001b[2K     \u001b[90m━━━━━━━━━━━━━━━━━━━━━━━━━━━━━━━━━━━━━━━━\u001b[0m \u001b[32m15.9/15.9 MB\u001b[0m \u001b[31m47.4 MB/s\u001b[0m eta \u001b[36m0:00:00\u001b[0m\n",
            "\u001b[?25hRequirement already satisfied: aiosignal>=1.1.2 in /usr/local/lib/python3.10/dist-packages (from aiohttp<4.0.0,>=3.8.3->langchain) (1.3.1)\n",
            "Requirement already satisfied: attrs>=17.3.0 in /usr/local/lib/python3.10/dist-packages (from aiohttp<4.0.0,>=3.8.3->langchain) (23.2.0)\n",
            "Requirement already satisfied: frozenlist>=1.1.1 in /usr/local/lib/python3.10/dist-packages (from aiohttp<4.0.0,>=3.8.3->langchain) (1.4.1)\n",
            "Requirement already satisfied: multidict<7.0,>=4.5 in /usr/local/lib/python3.10/dist-packages (from aiohttp<4.0.0,>=3.8.3->langchain) (6.0.5)\n",
            "Requirement already satisfied: yarl<2.0,>=1.0 in /usr/local/lib/python3.10/dist-packages (from aiohttp<4.0.0,>=3.8.3->langchain) (1.9.4)\n",
            "Collecting jsonpatch<2.0,>=1.33 (from langchain-core<0.3.0,>=0.2.22->langchain)\n",
            "  Downloading jsonpatch-1.33-py2.py3-none-any.whl (12 kB)\n",
            "Requirement already satisfied: packaging<25,>=23.2 in /usr/local/lib/python3.10/dist-packages (from langchain-core<0.3.0,>=0.2.22->langchain) (24.1)\n",
            "Collecting orjson<4.0.0,>=3.9.14 (from langsmith<0.2.0,>=0.1.17->langchain)\n",
            "  Downloading orjson-3.10.6-cp310-cp310-manylinux_2_17_x86_64.manylinux2014_x86_64.whl (141 kB)\n",
            "\u001b[2K     \u001b[90m━━━━━━━━━━━━━━━━━━━━━━━━━━━━━━━━━━━━━━━━\u001b[0m \u001b[32m141.1/141.1 kB\u001b[0m \u001b[31m4.3 MB/s\u001b[0m eta \u001b[36m0:00:00\u001b[0m\n",
            "\u001b[?25hRequirement already satisfied: annotated-types>=0.4.0 in /usr/local/lib/python3.10/dist-packages (from pydantic<3,>=1->langchain) (0.7.0)\n",
            "Requirement already satisfied: pydantic-core==2.20.1 in /usr/local/lib/python3.10/dist-packages (from pydantic<3,>=1->langchain) (2.20.1)\n",
            "Requirement already satisfied: typing-extensions>=4.6.1 in /usr/local/lib/python3.10/dist-packages (from pydantic<3,>=1->langchain) (4.12.2)\n",
            "Requirement already satisfied: charset-normalizer<4,>=2 in /usr/local/lib/python3.10/dist-packages (from requests<3,>=2->langchain) (3.3.2)\n",
            "Requirement already satisfied: idna<4,>=2.5 in /usr/local/lib/python3.10/dist-packages (from requests<3,>=2->langchain) (3.7)\n",
            "Requirement already satisfied: urllib3<3,>=1.21.1 in /usr/local/lib/python3.10/dist-packages (from requests<3,>=2->langchain) (2.0.7)\n",
            "Requirement already satisfied: certifi>=2017.4.17 in /usr/local/lib/python3.10/dist-packages (from requests<3,>=2->langchain) (2024.7.4)\n",
            "Requirement already satisfied: greenlet!=0.4.17 in /usr/local/lib/python3.10/dist-packages (from SQLAlchemy<3,>=1.4->langchain) (3.0.3)\n",
            "Collecting jsonpointer>=1.9 (from jsonpatch<2.0,>=1.33->langchain-core<0.3.0,>=0.2.22->langchain)\n",
            "  Downloading jsonpointer-3.0.0-py2.py3-none-any.whl (7.6 kB)\n",
            "Installing collected packages: rank-bm25, PyMuPDFb, orjson, jsonpointer, PyMuPDF, jsonpatch, langsmith, langchain-core, langchain-text-splitters, langchain\n",
            "Successfully installed PyMuPDF-1.24.8 PyMuPDFb-1.24.8 jsonpatch-1.33 jsonpointer-3.0.0 langchain-0.2.10 langchain-core-0.2.22 langchain-text-splitters-0.2.2 langsmith-0.1.93 orjson-3.10.6 rank-bm25-0.2.2\n"
          ]
        }
      ]
    },
    {
      "cell_type": "code",
      "source": [
        "# pip install --upgrade langchain"
      ],
      "metadata": {
        "id": "EsWlazEyejQN"
      },
      "execution_count": 5,
      "outputs": []
    },
    {
      "cell_type": "code",
      "source": [
        "from google.colab import drive\n",
        "import os\n",
        "drive.mount('/content/drive')\n",
        "wd = '/content/drive/MyDrive/Mestrado/POLI/BM25'\n",
        "os.chdir(wd)"
      ],
      "metadata": {
        "id": "kfub2dZJc1iQ",
        "colab": {
          "base_uri": "https://localhost:8080/"
        },
        "outputId": "bd3d6d24-e6a7-4921-d86e-c59d9414342d"
      },
      "execution_count": 6,
      "outputs": [
        {
          "output_type": "stream",
          "name": "stdout",
          "text": [
            "Mounted at /content/drive\n"
          ]
        }
      ]
    },
    {
      "cell_type": "code",
      "source": [
        "pip install langchain-community langchain-core openai"
      ],
      "metadata": {
        "colab": {
          "base_uri": "https://localhost:8080/"
        },
        "id": "HQ02BGo8eqPK",
        "outputId": "0733f6aa-de9b-4a08-e67c-20e605fec4a5"
      },
      "execution_count": 7,
      "outputs": [
        {
          "output_type": "stream",
          "name": "stdout",
          "text": [
            "Collecting langchain-community\n",
            "  Downloading langchain_community-0.2.9-py3-none-any.whl (2.3 MB)\n",
            "\u001b[2K     \u001b[90m━━━━━━━━━━━━━━━━━━━━━━━━━━━━━━━━━━━━━━━━\u001b[0m \u001b[32m2.3/2.3 MB\u001b[0m \u001b[31m27.7 MB/s\u001b[0m eta \u001b[36m0:00:00\u001b[0m\n",
            "\u001b[?25hRequirement already satisfied: langchain-core in /usr/local/lib/python3.10/dist-packages (0.2.22)\n",
            "Collecting openai\n",
            "  Downloading openai-1.37.0-py3-none-any.whl (337 kB)\n",
            "\u001b[2K     \u001b[90m━━━━━━━━━━━━━━━━━━━━━━━━━━━━━━━━━━━━━━━━\u001b[0m \u001b[32m337.0/337.0 kB\u001b[0m \u001b[31m28.4 MB/s\u001b[0m eta \u001b[36m0:00:00\u001b[0m\n",
            "\u001b[?25hRequirement already satisfied: PyYAML>=5.3 in /usr/local/lib/python3.10/dist-packages (from langchain-community) (6.0.1)\n",
            "Requirement already satisfied: SQLAlchemy<3,>=1.4 in /usr/local/lib/python3.10/dist-packages (from langchain-community) (2.0.31)\n",
            "Requirement already satisfied: aiohttp<4.0.0,>=3.8.3 in /usr/local/lib/python3.10/dist-packages (from langchain-community) (3.9.5)\n",
            "Collecting dataclasses-json<0.7,>=0.5.7 (from langchain-community)\n",
            "  Downloading dataclasses_json-0.6.7-py3-none-any.whl (28 kB)\n",
            "Requirement already satisfied: langchain<0.3.0,>=0.2.9 in /usr/local/lib/python3.10/dist-packages (from langchain-community) (0.2.10)\n",
            "Requirement already satisfied: langsmith<0.2.0,>=0.1.0 in /usr/local/lib/python3.10/dist-packages (from langchain-community) (0.1.93)\n",
            "Requirement already satisfied: numpy<2,>=1 in /usr/local/lib/python3.10/dist-packages (from langchain-community) (1.25.2)\n",
            "Requirement already satisfied: requests<3,>=2 in /usr/local/lib/python3.10/dist-packages (from langchain-community) (2.31.0)\n",
            "Requirement already satisfied: tenacity!=8.4.0,<9.0.0,>=8.1.0 in /usr/local/lib/python3.10/dist-packages (from langchain-community) (8.5.0)\n",
            "Requirement already satisfied: jsonpatch<2.0,>=1.33 in /usr/local/lib/python3.10/dist-packages (from langchain-core) (1.33)\n",
            "Requirement already satisfied: packaging<25,>=23.2 in /usr/local/lib/python3.10/dist-packages (from langchain-core) (24.1)\n",
            "Requirement already satisfied: pydantic<3,>=1 in /usr/local/lib/python3.10/dist-packages (from langchain-core) (2.8.2)\n",
            "Requirement already satisfied: anyio<5,>=3.5.0 in /usr/local/lib/python3.10/dist-packages (from openai) (3.7.1)\n",
            "Requirement already satisfied: distro<2,>=1.7.0 in /usr/lib/python3/dist-packages (from openai) (1.7.0)\n",
            "Collecting httpx<1,>=0.23.0 (from openai)\n",
            "  Downloading httpx-0.27.0-py3-none-any.whl (75 kB)\n",
            "\u001b[2K     \u001b[90m━━━━━━━━━━━━━━━━━━━━━━━━━━━━━━━━━━━━━━━━\u001b[0m \u001b[32m75.6/75.6 kB\u001b[0m \u001b[31m9.8 MB/s\u001b[0m eta \u001b[36m0:00:00\u001b[0m\n",
            "\u001b[?25hRequirement already satisfied: sniffio in /usr/local/lib/python3.10/dist-packages (from openai) (1.3.1)\n",
            "Requirement already satisfied: tqdm>4 in /usr/local/lib/python3.10/dist-packages (from openai) (4.66.4)\n",
            "Requirement already satisfied: typing-extensions<5,>=4.7 in /usr/local/lib/python3.10/dist-packages (from openai) (4.12.2)\n",
            "Requirement already satisfied: aiosignal>=1.1.2 in /usr/local/lib/python3.10/dist-packages (from aiohttp<4.0.0,>=3.8.3->langchain-community) (1.3.1)\n",
            "Requirement already satisfied: attrs>=17.3.0 in /usr/local/lib/python3.10/dist-packages (from aiohttp<4.0.0,>=3.8.3->langchain-community) (23.2.0)\n",
            "Requirement already satisfied: frozenlist>=1.1.1 in /usr/local/lib/python3.10/dist-packages (from aiohttp<4.0.0,>=3.8.3->langchain-community) (1.4.1)\n",
            "Requirement already satisfied: multidict<7.0,>=4.5 in /usr/local/lib/python3.10/dist-packages (from aiohttp<4.0.0,>=3.8.3->langchain-community) (6.0.5)\n",
            "Requirement already satisfied: yarl<2.0,>=1.0 in /usr/local/lib/python3.10/dist-packages (from aiohttp<4.0.0,>=3.8.3->langchain-community) (1.9.4)\n",
            "Requirement already satisfied: async-timeout<5.0,>=4.0 in /usr/local/lib/python3.10/dist-packages (from aiohttp<4.0.0,>=3.8.3->langchain-community) (4.0.3)\n",
            "Requirement already satisfied: idna>=2.8 in /usr/local/lib/python3.10/dist-packages (from anyio<5,>=3.5.0->openai) (3.7)\n",
            "Requirement already satisfied: exceptiongroup in /usr/local/lib/python3.10/dist-packages (from anyio<5,>=3.5.0->openai) (1.2.2)\n",
            "Collecting marshmallow<4.0.0,>=3.18.0 (from dataclasses-json<0.7,>=0.5.7->langchain-community)\n",
            "  Downloading marshmallow-3.21.3-py3-none-any.whl (49 kB)\n",
            "\u001b[2K     \u001b[90m━━━━━━━━━━━━━━━━━━━━━━━━━━━━━━━━━━━━━━━━\u001b[0m \u001b[32m49.2/49.2 kB\u001b[0m \u001b[31m1.7 MB/s\u001b[0m eta \u001b[36m0:00:00\u001b[0m\n",
            "\u001b[?25hCollecting typing-inspect<1,>=0.4.0 (from dataclasses-json<0.7,>=0.5.7->langchain-community)\n",
            "  Downloading typing_inspect-0.9.0-py3-none-any.whl (8.8 kB)\n",
            "Requirement already satisfied: certifi in /usr/local/lib/python3.10/dist-packages (from httpx<1,>=0.23.0->openai) (2024.7.4)\n",
            "Collecting httpcore==1.* (from httpx<1,>=0.23.0->openai)\n",
            "  Downloading httpcore-1.0.5-py3-none-any.whl (77 kB)\n",
            "\u001b[2K     \u001b[90m━━━━━━━━━━━━━━━━━━━━━━━━━━━━━━━━━━━━━━━━\u001b[0m \u001b[32m77.9/77.9 kB\u001b[0m \u001b[31m6.1 MB/s\u001b[0m eta \u001b[36m0:00:00\u001b[0m\n",
            "\u001b[?25hCollecting h11<0.15,>=0.13 (from httpcore==1.*->httpx<1,>=0.23.0->openai)\n",
            "  Downloading h11-0.14.0-py3-none-any.whl (58 kB)\n",
            "\u001b[2K     \u001b[90m━━━━━━━━━━━━━━━━━━━━━━━━━━━━━━━━━━━━━━━━\u001b[0m \u001b[32m58.3/58.3 kB\u001b[0m \u001b[31m7.1 MB/s\u001b[0m eta \u001b[36m0:00:00\u001b[0m\n",
            "\u001b[?25hRequirement already satisfied: jsonpointer>=1.9 in /usr/local/lib/python3.10/dist-packages (from jsonpatch<2.0,>=1.33->langchain-core) (3.0.0)\n",
            "Requirement already satisfied: langchain-text-splitters<0.3.0,>=0.2.0 in /usr/local/lib/python3.10/dist-packages (from langchain<0.3.0,>=0.2.9->langchain-community) (0.2.2)\n",
            "Requirement already satisfied: orjson<4.0.0,>=3.9.14 in /usr/local/lib/python3.10/dist-packages (from langsmith<0.2.0,>=0.1.0->langchain-community) (3.10.6)\n",
            "Requirement already satisfied: annotated-types>=0.4.0 in /usr/local/lib/python3.10/dist-packages (from pydantic<3,>=1->langchain-core) (0.7.0)\n",
            "Requirement already satisfied: pydantic-core==2.20.1 in /usr/local/lib/python3.10/dist-packages (from pydantic<3,>=1->langchain-core) (2.20.1)\n",
            "Requirement already satisfied: charset-normalizer<4,>=2 in /usr/local/lib/python3.10/dist-packages (from requests<3,>=2->langchain-community) (3.3.2)\n",
            "Requirement already satisfied: urllib3<3,>=1.21.1 in /usr/local/lib/python3.10/dist-packages (from requests<3,>=2->langchain-community) (2.0.7)\n",
            "Requirement already satisfied: greenlet!=0.4.17 in /usr/local/lib/python3.10/dist-packages (from SQLAlchemy<3,>=1.4->langchain-community) (3.0.3)\n",
            "Collecting mypy-extensions>=0.3.0 (from typing-inspect<1,>=0.4.0->dataclasses-json<0.7,>=0.5.7->langchain-community)\n",
            "  Downloading mypy_extensions-1.0.0-py3-none-any.whl (4.7 kB)\n",
            "Installing collected packages: mypy-extensions, marshmallow, h11, typing-inspect, httpcore, httpx, dataclasses-json, openai, langchain-community\n",
            "Successfully installed dataclasses-json-0.6.7 h11-0.14.0 httpcore-1.0.5 httpx-0.27.0 langchain-community-0.2.9 marshmallow-3.21.3 mypy-extensions-1.0.0 openai-1.37.0 typing-inspect-0.9.0\n"
          ]
        }
      ]
    },
    {
      "cell_type": "code",
      "source": [
        "import os\n",
        "import fitz  # PyMuPDF\n",
        "from rank_bm25 import BM25Okapi\n",
        "from nltk.tokenize import word_tokenize\n",
        "import nltk\n",
        "from langchain.text_splitter import RecursiveCharacterTextSplitter\n",
        "from langchain import PromptTemplate, LLMChain, OpenAI\n",
        "\n",
        "# Certifique-se de que o NLTK está instalado\n",
        "nltk.download('punkt')\n",
        "\n",
        "def extrair_texto_do_pdf(pdf_path):\n",
        "    doc = fitz.open(pdf_path)\n",
        "    text = \"\"\n",
        "    for page_num in range(len(doc)):\n",
        "        page = doc.load_page(page_num)\n",
        "        text += page.get_text()\n",
        "    return text\n",
        "\n",
        "# Função para dividir o texto usando RecursiveCharacterTextSplitter\n",
        "def dividir_texto(text):\n",
        "    splitter = RecursiveCharacterTextSplitter(\n",
        "        chunk_size=2000,  # Ajuste o tamanho do chunk conforme necessário\n",
        "        chunk_overlap=500  # Ajuste a sobreposição conforme necessário\n",
        "    )\n",
        "    return splitter.split_text(text)\n",
        "\n",
        "# Caminho para a pasta que contém os PDFs\n",
        "pasta_pdfs = \"./pdfs\"\n",
        "\n",
        "# Listar todos os arquivos PDF na pasta\n",
        "arquivos_pdfs = [f for f in os.listdir(pasta_pdfs) if f.endswith('.pdf')]\n",
        "\n",
        "# Extrair e dividir texto dos PDFs preservando os rótulos\n",
        "documentos = []\n",
        "for arquivo_pdf in arquivos_pdfs:\n",
        "    caminho_pdf = os.path.join(pasta_pdfs, arquivo_pdf)\n",
        "    pdf_texto = extrair_texto_do_pdf(caminho_pdf)\n",
        "    chunks = dividir_texto(pdf_texto)\n",
        "    for chunk in chunks:\n",
        "        documentos.append({\"texto\": chunk, \"label\": arquivo_pdf})\n",
        "\n",
        "# Tokenizar o corpus\n",
        "documentos_tokenizados = [word_tokenize(doc[\"texto\"].lower()) for doc in documentos]\n",
        "\n",
        "# Inicializar o BM25\n",
        "bm25 = BM25Okapi(documentos_tokenizados)\n",
        "\n",
        "# Definir a consulta\n",
        "consulta = \"Qual prazo do plano de ação?\"\n",
        "consulta_tokenizada = word_tokenize(consulta.lower())\n",
        "\n",
        "# Obter scores do BM25\n",
        "scores = bm25.get_scores(consulta_tokenizada)\n",
        "\n",
        "# Ordenar os documentos por score\n",
        "documentos_classificados = sorted(zip(scores, documentos), reverse=True, key=lambda x: x[0])\n",
        "\n",
        "# Selecionar os top N documentos\n",
        "top_n = 5\n",
        "top_documentos = [doc for _, doc in documentos_classificados[:top_n]]"
      ],
      "metadata": {
        "id": "8PSM6zdIcjwI",
        "colab": {
          "base_uri": "https://localhost:8080/"
        },
        "outputId": "561d12d0-a331-4536-dbdf-f93185573fb0"
      },
      "execution_count": 33,
      "outputs": [
        {
          "output_type": "stream",
          "name": "stderr",
          "text": [
            "[nltk_data] Downloading package punkt to /root/nltk_data...\n",
            "[nltk_data]   Package punkt is already up-to-date!\n"
          ]
        }
      ]
    },
    {
      "cell_type": "code",
      "source": [
        "top_documentos"
      ],
      "metadata": {
        "colab": {
          "base_uri": "https://localhost:8080/"
        },
        "id": "dSYnlhx0fA1B",
        "outputId": "fa4bfd2b-fef2-46d2-8287-b6bdcb975b13"
      },
      "execution_count": 34,
      "outputs": [
        {
          "output_type": "execute_result",
          "data": {
            "text/plain": [
              "[{'texto': 'do Ofício de recomendações mencionado no art. 1o, prazos para saneamento das \\ndeficiências dos controles internos encontradas. \\n  \\n§ 1o A ausência de manifestação no prazo estipulado no caput sujeitará a \\nsociedade/entidade à aplicação das penalidades cabíveis referentes às deficiências \\nencontradas. \\n \\nFl. 2 da CIRCULAR SUSEP No 340, de 23 de março de 2007. \\n \\n \\n§ 2o  No requerimento enviado à SUSEP deverá constar o plano de ação e o \\nprazo de implementação de cada item de deficiência. \\n  \\n§ 3o  Os prazos para implementação dos planos de ação serão contados a partir \\nda data de protocolo do requerimento na SUSEP. \\n \\n§ 4o  Os prazos para saneamento das deficiências poderão ser diferenciados, em \\nfunção da complexidade para resolução das mesmas. \\n  \\nArt. 3o  Os prazos para saneamento das deficiências não deverão ser maiores que \\n90 (noventa) dias e, na hipótese de requerimento com  prazo superior, a sociedade/entidade \\ndeverá justificar detalhadamente os motivos que impedem a solução da deficiência em \\nprazo inferior, ficando  a critério do Conselho Diretor  da SUSEP o deferimento do pleito. \\n \\nArt. 4o  Caso a sociedade/entidade apresente, em conjunto com o requerimento \\nde que trata o art. 2o, contestação quanto a 1 (uma) ou mais deficiências encontradas, e a \\nSUSEP a(s) considere improcedente(s), a sociedade/entidade será notificada para apresentar \\no(s) plano(s) de ação referente(s) à(s) deficiência(s) contestada(s) em até 30 (trinta) dias, \\ncontados a partir do recebimento do Ofício de notificação. \\n \\nParágrafo único.  Os prazos para implementação dos planos de ação serão \\ncontados a partir da data de protocolo do requerimento na SUSEP. \\n \\nArt. 5o A Auditoria Interna da sociedade/entidade deverá acompanhar a \\nexecução dos planos de ação. \\n \\nParágrafo único.  A sociedade/entidade deverá encaminhar à SUSEP relatório \\nvalidado pela Auditoria Interna caso seja identificado descumprimento dos prazos \\nconstantes dos planos de ação aprovados.',\n",
              "  'label': 'CIRCULAR SUSEP No 340.pdf'},\n",
              " {'texto': 'MINISTÉRIO DA FAZENDA \\nSuperintendência de Seguros Privados \\n \\n \\nCIRCULAR SUSEP No 340, de 23 de março de 2007. \\n \\n \\nDisciplina os parágrafos 1o, 2o e 3o \\ndos artigos 5o, 26 e 33 da Resolução \\nCNSP No 60, de 3 de setembro de \\n2001. \\n \\n \\nO SUPERINTENDENTE SUBSTITUTO DA SUPERINTENDÊNCIA DE \\nSEGUROS PRIVADOS – SUSEP, na forma do art. 36, alíneas “b” e “h”, do Decreto-Lei \\nNo 73, de 21 de novembro de 1966; do § 2o do art. 3o do Decreto-Lei No 261, de 28 de \\nfevereiro de 1967; e do art. 74 da Lei Complementar No 109, de 29 de maio de 2001, e \\nconsiderando o que consta do Processo SUSEP no 15414.005247/2006-21,  \\n \\nR E S O L V E: \\n \\n \\nArt. 1o  Nas fiscalizações que tenham por escopo a avaliação do sistema de \\ncontroles internos, instituído por meio da Circular  SUSEP No 249, de 20 de fevereiro de \\n2004, os servidores designados deverão entregar à sociedade/entidade, ao final da \\nfiscalização, Ofício de recomendações, contendo todas as deficiências de controles \\nencontradas durante os trabalhos. \\n \\nParágrafo único.  Os fatos que caracterizem infração a dispositivo previsto nas \\nResoluções do CNSP, Circulares SUSEP e demais normas que não tenham por objetivo a \\nregulamentação dos sistemas de controles internos das sociedades seguradoras, das \\nsociedades de capitalização e das entidades abertas de previdência complementar serão \\nanalisados em processos apartados. \\n \\nArt. 2o A sociedade/entidade supervisionada poderá requerer ao Chefe do \\nDepartamento de Fiscalização da SUSEP, em até 30 (trinta) dias, contados do recebimento \\ndo Ofício de recomendações mencionado no art. 1o, prazos para saneamento das \\ndeficiências dos controles internos encontradas. \\n  \\n§ 1o A ausência de manifestação no prazo estipulado no caput sujeitará a \\nsociedade/entidade à aplicação das penalidades cabíveis referentes às deficiências \\nencontradas. \\n \\nFl. 2 da CIRCULAR SUSEP No 340, de 23 de março de 2007. \\n \\n \\n§ 2o  No requerimento enviado à SUSEP deverá constar o plano de ação e o',\n",
              "  'label': 'CIRCULAR SUSEP No 340.pdf'},\n",
              " {'texto': 'Parágrafo único.  Os prazos para implementação dos planos de ação serão \\ncontados a partir da data de protocolo do requerimento na SUSEP. \\n \\nArt. 5o A Auditoria Interna da sociedade/entidade deverá acompanhar a \\nexecução dos planos de ação. \\n \\nParágrafo único.  A sociedade/entidade deverá encaminhar à SUSEP relatório \\nvalidado pela Auditoria Interna caso seja identificado descumprimento dos prazos \\nconstantes dos planos de ação aprovados. \\n \\nArt. 6o  Caso as deficiências encontradas não tenham sido saneadas após o \\ntérmino dos  prazos concedidos pela SUSEP, caracterizar-se-ão como irregularidades, e \\nsujeitarão a sociedade/entidade à aplicação das penalidades cabíveis. \\n \\n \\n \\n \\n \\n \\n \\nJOÃO MARCELO M. R. DOS SANTOS \\nSuperintendente Substituto',\n",
              "  'label': 'CIRCULAR SUSEP No 340.pdf'},\n",
              " {'texto': 'Art. 3º A tabela do Anexo I da Circular Susep nº 648, de 2021, passa a\\nvigorar da seguinte forma:\\nNORMA - Circular 678 (1474711)         SEI 15414.602210/2022-66 / pg. 10\\n \\nArt. 4º Na adoção inicial das alterações de políticas contábeis previstas no no\\n§ 5º do art. 43, no § 3º do art. 101 e no art. 125-C da Circular Susep nº 648, de 2021, as\\nsupervisionadas poderão aplicar as mudanças prospectivamente, conforme orientações\\ncontidas em manual específico divulgado no sítio eletrônico da Susep.\\n \\nArt. 5º Ficam revogados os seguintes dispositivos da Circular SUSEP nº 648,\\nde 2021:  \\nI - § 4º do art. 18;\\nII - § 2º do art. 19;\\nIII - §§ 2º, 10 e 11 do art. 43;\\nIV - art. 44;\\nV - inciso V do art. 45;\\nVI - inciso IV do art. 117;\\nVII - inciso XXXI do art. 136;\\nVIII - art. 139; e\\nIX - art. 140.\\n \\nArt. 6º Fica revogado o parágrafo único do art. 4º da Circular Susep nº 439,\\nde 27 de junho de 2012.\\n \\nArt. 7º Esta Circular entra em vigor:\\nNORMA - Circular 678 (1474711)         SEI 15414.602210/2022-66 / pg. 11\\nI - em 2 de janeiro de 2023, para o art. 2º; e\\nII - em 2 de janeiro 2024, para os demais artigos.\\nDocumento assinado eletronicamente por ALEXANDRE MILANESE CAMILLO\\n(MATRÍCULA 3257886), Superintendente da Susep, em 11/10/2022, às\\n19:49, conforme horário oficial de Brasília, com fundamento no § 3º do art. 4º\\ndo Decreto nº 10.543/2020.\\nA autenticidade do documento pode ser conferida no site\\nhttps://sei.susep.gov.br/sei/controlador_externo.php?\\nacao=documento_conferir&acao_origem=documento_conferir&id_orgao_acesso_externo=0\\ninformando o código verificador 1474711 e o código CRC 4DA1ABF7.\\n \\nReferência: Processo nº 15414.602210/2022-66\\nSEI nº 1474711\\nNORMA - Circular 678 (1474711)         SEI 15414.602210/2022-66 / pg. 12',\n",
              "  'label': 'CIRCULAR SUSEP No 678.pdf'},\n",
              " {'texto': 'um plano específico.\\n§ 4º Consideram-se benefícios a regularizar relativos a cobertura por\\nsobrevivência:\\nI - na modalidade benefício deﬁnido, o benefício devido após a sobrevivência\\ndo segurado ou participante ao período de diferimento contratado até o momento do\\npagamento ou da opção do segurado ou participante de receber o benefício na forma de\\nrenda; e\\nII - na modalidade contribuição variável, o benefício solicitado devido e por\\nqualquer motivo ainda não pago, ressalvado os casos previstos no § 3º do art. 10, em que\\ndeverá ser considerada como referência o momento da cotização do resgate no fundo.\\n§ 5º O fato gerador da baixa da PVR é:\\nI - o pagamento, caracterizado  quando da liquidação ﬁnanceira, do\\nrecebimento do comprovante de pagamento da obrigação, ou conforme os demais casos\\nprevistos em lei;\\nII -  a alocação da portabilidade recebida ao plano específico;\\nIII - a cotização de prêmios recebidos; e\\nIV - a opção do segurado/participante em receber renda, nas coberturas por\\nsobrevivência na modalidade benefício definido.\" (NR)\\n \\n\"Art. 17. ..............................\\n.............................................\\nVII - Provisão de Receitas Diferidas (PRD).\" (NR)\\n \\nNORMA - Circular 678 (1474711)         SEI 15414.602210/2022-66 / pg. 3\\n\"Art. 18. ..............................\\n§ 1º O fato gerador da constituição da provisão é o pagamento ou a\\ninformação de pagamento da contribuição pelo subscritor.\\n.............................................\\n§ 3º Quando não conhecida a data de aquisição, será utilizada a data de início\\nde comercialização da série, desde que o prazo de comercialização da série não ultrapasse\\nsessenta dias.\" (NR)\\n \\n\"Art. 24. A PRD deverá ser constituída para o diferimento de receitas dos\\ntítulos pelas sociedades de capitalização.\" (NR)\\n \\n\"Art. 26. ..............................\\n.............................................\\nVII - Provisão de Despesas Relacionadas a Produtos Estruturados em Regime\\nFinanceiro de Repartição Simples (PDR);',\n",
              "  'label': 'CIRCULAR SUSEP No 678.pdf'}]"
            ]
          },
          "metadata": {},
          "execution_count": 34
        }
      ]
    },
    {
      "cell_type": "code",
      "source": [
        "# Integrar com LangChain\n",
        "template_prompt = \"\"\"\n",
        "Com base nos seguintes documentos:\n",
        "{documentos}\n",
        "\n",
        "Responda à seguinte pergunta:\n",
        "{pergunta}\n",
        "\n",
        "Note que você deve referenciar o nome do documento em seu texto.\n",
        "\"\"\"\n",
        "\n",
        "prompt = PromptTemplate(input_variables=[\"documentos\", \"pergunta\"], template=template_prompt)"
      ],
      "metadata": {
        "id": "T1lRaa1ieUCc"
      },
      "execution_count": 35,
      "outputs": []
    },
    {
      "cell_type": "code",
      "source": [
        "with open(\"/content/drive/MyDrive/Projeto ML/2024/LLMs_RAGs_estudo/openai_key.txt\", \"r\") as f:\n",
        "  openai_key = f.read()\n",
        "\n",
        "os.environ['OPENAI_API_KEY'] = openai_key"
      ],
      "metadata": {
        "id": "CSQR0S5afi78"
      },
      "execution_count": 36,
      "outputs": []
    },
    {
      "cell_type": "code",
      "source": [],
      "metadata": {
        "id": "DYpZ0y-rf-Ca"
      },
      "execution_count": 36,
      "outputs": []
    },
    {
      "cell_type": "code",
      "source": [
        "llm = OpenAI(temperature=0.7)\n",
        "\n",
        "chain = LLMChain(llm=llm, prompt=prompt)\n",
        "\n",
        "# Construir o input para o LangChain\n",
        "documentos_str = \"\\n\".join([f\"Do {doc['label']}:\\n{doc['texto']}\" for doc in top_documentos])\n",
        "pergunta = consulta\n",
        "\n",
        "input_data = {\"documentos\": documentos_str, \"pergunta\": pergunta}\n",
        "\n",
        "# Executar o LangChain\n",
        "resposta = chain(input_data)\n",
        "print(resposta)"
      ],
      "metadata": {
        "colab": {
          "base_uri": "https://localhost:8080/"
        },
        "id": "g5_umhbRe9to",
        "outputId": "bfa0416a-fc51-4fd8-f32a-acab8e6c49a7"
      },
      "execution_count": 37,
      "outputs": [
        {
          "output_type": "stream",
          "name": "stdout",
          "text": [
            "{'documentos': 'Do CIRCULAR SUSEP No 340.pdf:\\ndo Ofício de recomendações mencionado no art. 1o, prazos para saneamento das \\ndeficiências dos controles internos encontradas. \\n  \\n§ 1o A ausência de manifestação no prazo estipulado no caput sujeitará a \\nsociedade/entidade à aplicação das penalidades cabíveis referentes às deficiências \\nencontradas. \\n \\nFl. 2 da CIRCULAR SUSEP No 340, de 23 de março de 2007. \\n \\n \\n§ 2o  No requerimento enviado à SUSEP deverá constar o plano de ação e o \\nprazo de implementação de cada item de deficiência. \\n  \\n§ 3o  Os prazos para implementação dos planos de ação serão contados a partir \\nda data de protocolo do requerimento na SUSEP. \\n \\n§ 4o  Os prazos para saneamento das deficiências poderão ser diferenciados, em \\nfunção da complexidade para resolução das mesmas. \\n  \\nArt. 3o  Os prazos para saneamento das deficiências não deverão ser maiores que \\n90 (noventa) dias e, na hipótese de requerimento com  prazo superior, a sociedade/entidade \\ndeverá justificar detalhadamente os motivos que impedem a solução da deficiência em \\nprazo inferior, ficando  a critério do Conselho Diretor  da SUSEP o deferimento do pleito. \\n \\nArt. 4o  Caso a sociedade/entidade apresente, em conjunto com o requerimento \\nde que trata o art. 2o, contestação quanto a 1 (uma) ou mais deficiências encontradas, e a \\nSUSEP a(s) considere improcedente(s), a sociedade/entidade será notificada para apresentar \\no(s) plano(s) de ação referente(s) à(s) deficiência(s) contestada(s) em até 30 (trinta) dias, \\ncontados a partir do recebimento do Ofício de notificação. \\n \\nParágrafo único.  Os prazos para implementação dos planos de ação serão \\ncontados a partir da data de protocolo do requerimento na SUSEP. \\n \\nArt. 5o A Auditoria Interna da sociedade/entidade deverá acompanhar a \\nexecução dos planos de ação. \\n \\nParágrafo único.  A sociedade/entidade deverá encaminhar à SUSEP relatório \\nvalidado pela Auditoria Interna caso seja identificado descumprimento dos prazos \\nconstantes dos planos de ação aprovados.\\nDo CIRCULAR SUSEP No 340.pdf:\\nMINISTÉRIO DA FAZENDA \\nSuperintendência de Seguros Privados \\n \\n \\nCIRCULAR SUSEP No 340, de 23 de março de 2007. \\n \\n \\nDisciplina os parágrafos 1o, 2o e 3o \\ndos artigos 5o, 26 e 33 da Resolução \\nCNSP No 60, de 3 de setembro de \\n2001. \\n \\n \\nO SUPERINTENDENTE SUBSTITUTO DA SUPERINTENDÊNCIA DE \\nSEGUROS PRIVADOS – SUSEP, na forma do art. 36, alíneas “b” e “h”, do Decreto-Lei \\nNo 73, de 21 de novembro de 1966; do § 2o do art. 3o do Decreto-Lei No 261, de 28 de \\nfevereiro de 1967; e do art. 74 da Lei Complementar No 109, de 29 de maio de 2001, e \\nconsiderando o que consta do Processo SUSEP no 15414.005247/2006-21,  \\n \\nR E S O L V E: \\n \\n \\nArt. 1o  Nas fiscalizações que tenham por escopo a avaliação do sistema de \\ncontroles internos, instituído por meio da Circular  SUSEP No 249, de 20 de fevereiro de \\n2004, os servidores designados deverão entregar à sociedade/entidade, ao final da \\nfiscalização, Ofício de recomendações, contendo todas as deficiências de controles \\nencontradas durante os trabalhos. \\n \\nParágrafo único.  Os fatos que caracterizem infração a dispositivo previsto nas \\nResoluções do CNSP, Circulares SUSEP e demais normas que não tenham por objetivo a \\nregulamentação dos sistemas de controles internos das sociedades seguradoras, das \\nsociedades de capitalização e das entidades abertas de previdência complementar serão \\nanalisados em processos apartados. \\n \\nArt. 2o A sociedade/entidade supervisionada poderá requerer ao Chefe do \\nDepartamento de Fiscalização da SUSEP, em até 30 (trinta) dias, contados do recebimento \\ndo Ofício de recomendações mencionado no art. 1o, prazos para saneamento das \\ndeficiências dos controles internos encontradas. \\n  \\n§ 1o A ausência de manifestação no prazo estipulado no caput sujeitará a \\nsociedade/entidade à aplicação das penalidades cabíveis referentes às deficiências \\nencontradas. \\n \\nFl. 2 da CIRCULAR SUSEP No 340, de 23 de março de 2007. \\n \\n \\n§ 2o  No requerimento enviado à SUSEP deverá constar o plano de ação e o\\nDo CIRCULAR SUSEP No 340.pdf:\\nParágrafo único.  Os prazos para implementação dos planos de ação serão \\ncontados a partir da data de protocolo do requerimento na SUSEP. \\n \\nArt. 5o A Auditoria Interna da sociedade/entidade deverá acompanhar a \\nexecução dos planos de ação. \\n \\nParágrafo único.  A sociedade/entidade deverá encaminhar à SUSEP relatório \\nvalidado pela Auditoria Interna caso seja identificado descumprimento dos prazos \\nconstantes dos planos de ação aprovados. \\n \\nArt. 6o  Caso as deficiências encontradas não tenham sido saneadas após o \\ntérmino dos  prazos concedidos pela SUSEP, caracterizar-se-ão como irregularidades, e \\nsujeitarão a sociedade/entidade à aplicação das penalidades cabíveis. \\n \\n \\n \\n \\n \\n \\n \\nJOÃO MARCELO M. R. DOS SANTOS \\nSuperintendente Substituto\\nDo CIRCULAR SUSEP No 678.pdf:\\nArt. 3º A tabela do Anexo I da Circular Susep nº 648, de 2021, passa a\\nvigorar da seguinte forma:\\nNORMA - Circular 678 (1474711)         SEI 15414.602210/2022-66 / pg. 10\\n \\nArt. 4º Na adoção inicial das alterações de políticas contábeis previstas no no\\n§ 5º do art. 43, no § 3º do art. 101 e no art. 125-C da Circular Susep nº 648, de 2021, as\\nsupervisionadas poderão aplicar as mudanças prospectivamente, conforme orientações\\ncontidas em manual específico divulgado no sítio eletrônico da Susep.\\n \\nArt. 5º Ficam revogados os seguintes dispositivos da Circular SUSEP nº 648,\\nde 2021:  \\nI - § 4º do art. 18;\\nII - § 2º do art. 19;\\nIII - §§ 2º, 10 e 11 do art. 43;\\nIV - art. 44;\\nV - inciso V do art. 45;\\nVI - inciso IV do art. 117;\\nVII - inciso XXXI do art. 136;\\nVIII - art. 139; e\\nIX - art. 140.\\n \\nArt. 6º Fica revogado o parágrafo único do art. 4º da Circular Susep nº 439,\\nde 27 de junho de 2012.\\n \\nArt. 7º Esta Circular entra em vigor:\\nNORMA - Circular 678 (1474711)         SEI 15414.602210/2022-66 / pg. 11\\nI - em 2 de janeiro de 2023, para o art. 2º; e\\nII - em 2 de janeiro 2024, para os demais artigos.\\nDocumento assinado eletronicamente por ALEXANDRE MILANESE CAMILLO\\n(MATRÍCULA 3257886), Superintendente da Susep, em 11/10/2022, às\\n19:49, conforme horário oficial de Brasília, com fundamento no § 3º do art. 4º\\ndo Decreto nº 10.543/2020.\\nA autenticidade do documento pode ser conferida no site\\nhttps://sei.susep.gov.br/sei/controlador_externo.php?\\nacao=documento_conferir&acao_origem=documento_conferir&id_orgao_acesso_externo=0\\ninformando o código verificador 1474711 e o código CRC 4DA1ABF7.\\n \\nReferência: Processo nº 15414.602210/2022-66\\nSEI nº 1474711\\nNORMA - Circular 678 (1474711)         SEI 15414.602210/2022-66 / pg. 12\\nDo CIRCULAR SUSEP No 678.pdf:\\num plano específico.\\n§ 4º Consideram-se benefícios a regularizar relativos a cobertura por\\nsobrevivência:\\nI - na modalidade benefício deﬁnido, o benefício devido após a sobrevivência\\ndo segurado ou participante ao período de diferimento contratado até o momento do\\npagamento ou da opção do segurado ou participante de receber o benefício na forma de\\nrenda; e\\nII - na modalidade contribuição variável, o benefício solicitado devido e por\\nqualquer motivo ainda não pago, ressalvado os casos previstos no § 3º do art. 10, em que\\ndeverá ser considerada como referência o momento da cotização do resgate no fundo.\\n§ 5º O fato gerador da baixa da PVR é:\\nI - o pagamento, caracterizado  quando da liquidação ﬁnanceira, do\\nrecebimento do comprovante de pagamento da obrigação, ou conforme os demais casos\\nprevistos em lei;\\nII -  a alocação da portabilidade recebida ao plano específico;\\nIII - a cotização de prêmios recebidos; e\\nIV - a opção do segurado/participante em receber renda, nas coberturas por\\nsobrevivência na modalidade benefício definido.\" (NR)\\n \\n\"Art. 17. ..............................\\n.............................................\\nVII - Provisão de Receitas Diferidas (PRD).\" (NR)\\n \\nNORMA - Circular 678 (1474711)         SEI 15414.602210/2022-66 / pg. 3\\n\"Art. 18. ..............................\\n§ 1º O fato gerador da constituição da provisão é o pagamento ou a\\ninformação de pagamento da contribuição pelo subscritor.\\n.............................................\\n§ 3º Quando não conhecida a data de aquisição, será utilizada a data de início\\nde comercialização da série, desde que o prazo de comercialização da série não ultrapasse\\nsessenta dias.\" (NR)\\n \\n\"Art. 24. A PRD deverá ser constituída para o diferimento de receitas dos\\ntítulos pelas sociedades de capitalização.\" (NR)\\n \\n\"Art. 26. ..............................\\n.............................................\\nVII - Provisão de Despesas Relacionadas a Produtos Estruturados em Regime\\nFinanceiro de Repartição Simples (PDR);', 'pergunta': 'Qual prazo do plano de ação?', 'text': '\\nDe acordo com o documento \"CIRCULAR SUSEP No 340, de 23 de março de 2007\", o prazo para implementação dos planos de ação será contado a partir da data de protocolo do requerimento na SUSEP. Além disso, os prazos para saneamento das deficiências não deverão ser maiores que 90 (noventa) dias, podendo ser diferenciados de acordo com a complexidade para resolução das mesmas. Caso a sociedade/entidade apresente contestação quanto a alguma deficiência encontrada, o prazo para apresentação do plano de ação referente a essa deficiência será de 30 (trinta) dias, contados a partir do recebimento do Ofício de notificação. '}\n"
          ]
        }
      ]
    },
    {
      "cell_type": "code",
      "source": [
        "resposta['text']"
      ],
      "metadata": {
        "colab": {
          "base_uri": "https://localhost:8080/",
          "height": 91
        },
        "id": "B8iJoqIYf2X2",
        "outputId": "f32d5678-7bc6-48e0-faef-d99cbd4911aa"
      },
      "execution_count": 38,
      "outputs": [
        {
          "output_type": "execute_result",
          "data": {
            "text/plain": [
              "'\\nDe acordo com o documento \"CIRCULAR SUSEP No 340, de 23 de março de 2007\", o prazo para implementação dos planos de ação será contado a partir da data de protocolo do requerimento na SUSEP. Além disso, os prazos para saneamento das deficiências não deverão ser maiores que 90 (noventa) dias, podendo ser diferenciados de acordo com a complexidade para resolução das mesmas. Caso a sociedade/entidade apresente contestação quanto a alguma deficiência encontrada, o prazo para apresentação do plano de ação referente a essa deficiência será de 30 (trinta) dias, contados a partir do recebimento do Ofício de notificação. '"
            ],
            "application/vnd.google.colaboratory.intrinsic+json": {
              "type": "string"
            }
          },
          "metadata": {},
          "execution_count": 38
        }
      ]
    },
    {
      "cell_type": "code",
      "source": [
        "print(f\"Prompt enviado ao LangChain:\\n\\n{template_prompt.format(documentos=documentos_str, pergunta=pergunta)}\")\n"
      ],
      "metadata": {
        "colab": {
          "base_uri": "https://localhost:8080/"
        },
        "id": "PJ0EanWFgHsl",
        "outputId": "e7279c97-7327-4a70-e81d-9f69848bd677"
      },
      "execution_count": 23,
      "outputs": [
        {
          "output_type": "stream",
          "name": "stdout",
          "text": [
            "Prompt enviado ao LangChain:\n",
            "\n",
            "\n",
            "Com base nos seguintes documentos:\n",
            "Do 22027_6744.pdf:\n",
            "§ 2o  No requerimento enviado à SUSEP deverá constar o plano de ação e o \n",
            "prazo de implementação de cada item de deficiência. \n",
            "  \n",
            "§ 3o  Os prazos para implementação dos planos de ação serão contados a partir \n",
            "da data de protocolo do requerimento na SUSEP. \n",
            " \n",
            "§ 4o  Os prazos para saneamento das deficiências poderão ser diferenciados, em \n",
            "função da complexidade para resolução das mesmas. \n",
            "  \n",
            "Art. 3o  Os prazos para saneamento das deficiências não deverão ser maiores que \n",
            "90 (noventa) dias e, na hipótese de requerimento com  prazo superior, a sociedade/entidade \n",
            "deverá justificar detalhadamente os motivos que impedem a solução da deficiência em \n",
            "prazo inferior, ficando  a critério do Conselho Diretor  da SUSEP o deferimento do pleito. \n",
            " \n",
            "Art. 4o  Caso a sociedade/entidade apresente, em conjunto com o requerimento \n",
            "de que trata o art. 2o, contestação quanto a 1 (uma) ou mais deficiências encontradas, e a\n",
            "Do 22027_6744.pdf:\n",
            "SUSEP a(s) considere improcedente(s), a sociedade/entidade será notificada para apresentar \n",
            "o(s) plano(s) de ação referente(s) à(s) deficiência(s) contestada(s) em até 30 (trinta) dias, \n",
            "contados a partir do recebimento do Ofício de notificação. \n",
            " \n",
            "Parágrafo único.  Os prazos para implementação dos planos de ação serão \n",
            "contados a partir da data de protocolo do requerimento na SUSEP. \n",
            " \n",
            "Art. 5o A Auditoria Interna da sociedade/entidade deverá acompanhar a \n",
            "execução dos planos de ação. \n",
            " \n",
            "Parágrafo único.  A sociedade/entidade deverá encaminhar à SUSEP relatório \n",
            "validado pela Auditoria Interna caso seja identificado descumprimento dos prazos \n",
            "constantes dos planos de ação aprovados. \n",
            " \n",
            "Art. 6o  Caso as deficiências encontradas não tenham sido saneadas após o \n",
            "término dos  prazos concedidos pela SUSEP, caracterizar-se-ão como irregularidades, e \n",
            "sujeitarão a sociedade/entidade à aplicação das penalidades cabíveis. \n",
            " \n",
            " \n",
            " \n",
            " \n",
            " \n",
            " \n",
            " \n",
            "JOÃO MARCELO M. R. DOS SANTOS\n",
            "Do 51702_26576.pdf:\n",
            "I - em 2 de janeiro de 2023, para o art. 2º; e\n",
            "II - em 2 de janeiro 2024, para os demais artigos.\n",
            "Documento assinado eletronicamente por ALEXANDRE MILANESE CAMILLO\n",
            "(MATRÍCULA 3257886), Superintendente da Susep, em 11/10/2022, às\n",
            "19:49, conforme horário oficial de Brasília, com fundamento no § 3º do art. 4º\n",
            "do Decreto nº 10.543/2020.\n",
            "A autenticidade do documento pode ser conferida no site\n",
            "https://sei.susep.gov.br/sei/controlador_externo.php?\n",
            "acao=documento_conferir&acao_origem=documento_conferir&id_orgao_acesso_externo=0\n",
            "informando o código verificador 1474711 e o código CRC 4DA1ABF7.\n",
            " \n",
            "Referência: Processo nº 15414.602210/2022-66\n",
            "SEI nº 1474711\n",
            "NORMA - Circular 678 (1474711)         SEI 15414.602210/2022-66 / pg. 12\n",
            "Do Circular-SUSEP-nº-638-2021-regras-sobre-segurança-cibernética.pdf:\n",
            "controles para identificar e reduzir vulnerabilidades, bem como detectar, responder e se\n",
            "recuperar de incidentes, que deverão ser previstos no plano de continuidade de negócios.\n",
            "  \n",
            "• A Companhia deverá comunicar à SUSEP, no prazo máximo de 5 (cinco) dias úteis a partir do\n",
            "conhecimento do evento, a ocorrência de incidentes relevantes, detalhando a extensão do\n",
            "dano causado e, se o caso, as ações em curso para regularização completa da situação e os\n",
            "respectivos responsáveis e prazos.\n",
            "  \n",
            "• Necessidade de documentar em Relatório anual a efetividade da prevenção e tratamento de\n",
            "incidentes feitos pela companhia.\n",
            "  \n",
            "• A Companhia deverá informar a SUSEP, em até 30 dias após a formalização dos contratos,\n",
            "sobre a terceirização de serviços de processamento e armazenamento de dados, incluindo\n",
            "dados sobre a denominação do prestador, a atividade que será por ele exercida e os países e\n",
            "regiões onde os serviços serão prestados e os dados serão gerenciados, bem como qualquer\n",
            "Do 51702_26576.pdf:\n",
            "estruturada na modalidade contribuição variável;\n",
            "c) solicitação de resgate, observado o disposto no §3º;\n",
            "d) solicitação de portabilidade, observado o disposto no §3º;\n",
            "e) custeio de cobertura de risco em planos conjugados;\n",
            "f) amortização do saldo devedor de assistência financeira; e\n",
            "g) cancelamento da cobertura; e\n",
            "II - para as coberturas de risco:\n",
            "a) registro do aviso de sinistro;\n",
            "b) solicitação de resgate;\n",
            "c) solicitação de portabilidade;\n",
            "d) custeio de cobertura de risco quando previsto no plano; e\n",
            "e) cancelamento da cobertura.\n",
            "§ 3º Para os produtos de acumulação cuja provisão esteja diretamente\n",
            "relacionada a fundos especíﬁcos, a baixa da provisão deverá ocorrer no mesmo momento\n",
            "da cotização do resgate nesses fundos.\" (NR)\n",
            " \n",
            "\"Art. 11. A PMBC deverá ser constituída, após ocorrido o evento gerador do\n",
            "benefício, para a cobertura dos compromissos assumidos com os participantes ou\n",
            "segurados, sendo calculada conforme metodologia constante em nota técnica atuarial do\n",
            "plano ou produto.\n",
            "Do 22027_6744.pdf:\n",
            "encontradas durante os trabalhos. \n",
            " \n",
            "Parágrafo único.  Os fatos que caracterizem infração a dispositivo previsto nas \n",
            "Resoluções do CNSP, Circulares SUSEP e demais normas que não tenham por objetivo a \n",
            "regulamentação dos sistemas de controles internos das sociedades seguradoras, das \n",
            "sociedades de capitalização e das entidades abertas de previdência complementar serão \n",
            "analisados em processos apartados. \n",
            " \n",
            "Art. 2o A sociedade/entidade supervisionada poderá requerer ao Chefe do \n",
            "Departamento de Fiscalização da SUSEP, em até 30 (trinta) dias, contados do recebimento \n",
            "do Ofício de recomendações mencionado no art. 1o, prazos para saneamento das \n",
            "deficiências dos controles internos encontradas. \n",
            "  \n",
            "§ 1o A ausência de manifestação no prazo estipulado no caput sujeitará a \n",
            "sociedade/entidade à aplicação das penalidades cabíveis referentes às deficiências \n",
            "encontradas. \n",
            " \n",
            "Fl. 2 da CIRCULAR SUSEP No 340, de 23 de março de 2007.\n",
            "Do 51702_26576.pdf:\n",
            "motivo ainda não pagos, bem como os valores correspondentes a resgate cujo direito não\n",
            "tenha sido exercido nos casos de cancelamento do contrato do participante ou\n",
            "do segurado.\n",
            "§ 2º Para ﬁns deste artigo, os pagamentos ﬁnanceiros programados devem\n",
            "ser considerados como resgates.\n",
            "§ 3º Consideraram-se portabilidades a regularizar:\n",
            "I - as portabilidades solicitadas e por qualquer motivo ainda não transferidas\n",
            "para a sociedade seguradora, EAPC ou entidade fechada de previdência complementar\n",
            "receptora; e\n",
            "II - as portabilidades recebidas e por qualquer motivo ainda não alocadas em\n",
            "um plano específico.\n",
            "§ 4º Consideram-se benefícios a regularizar relativos a cobertura por\n",
            "sobrevivência:\n",
            "I - na modalidade benefício deﬁnido, o benefício devido após a sobrevivência\n",
            "do segurado ou participante ao período de diferimento contratado até o momento do\n",
            "pagamento ou da opção do segurado ou participante de receber o benefício na forma de\n",
            "renda; e\n",
            "Do 51702_26576.pdf:\n",
            "renda; e\n",
            "II - na modalidade contribuição variável, o benefício solicitado devido e por\n",
            "qualquer motivo ainda não pago, ressalvado os casos previstos no § 3º do art. 10, em que\n",
            "deverá ser considerada como referência o momento da cotização do resgate no fundo.\n",
            "§ 5º O fato gerador da baixa da PVR é:\n",
            "I - o pagamento, caracterizado  quando da liquidação ﬁnanceira, do\n",
            "recebimento do comprovante de pagamento da obrigação, ou conforme os demais casos\n",
            "previstos em lei;\n",
            "II -  a alocação da portabilidade recebida ao plano específico;\n",
            "III - a cotização de prêmios recebidos; e\n",
            "IV - a opção do segurado/participante em receber renda, nas coberturas por\n",
            "sobrevivência na modalidade benefício definido.\" (NR)\n",
            " \n",
            "\"Art. 17. ..............................\n",
            ".............................................\n",
            "VII - Provisão de Receitas Diferidas (PRD).\" (NR)\n",
            " \n",
            "NORMA - Circular 678 (1474711)         SEI 15414.602210/2022-66 / pg. 3\n",
            "\"Art. 18. ..............................\n",
            "Do Circular-SUSEP-nº-638-2021-regras-sobre-segurança-cibernética.pdf:\n",
            "alteração contratual sobre essas condições. A Companhia deverá adequar os contratos já\n",
            "vigentes até o dia 01/09/2024.\n",
            "  \n",
            "• Caberá à Companhia exigir que os prestadores dos serviços de processamento e\n",
            "armazenamento de dados observem as disposições legais e normativas em vigor, bem como\n",
            "que possuam processos, medidas e procedimentos sobre segurança cibernética não inferiores\n",
            "aos seus próprios, o que não exime a Companhia do cumprimento das suas obrigações legais\n",
            "e normativas.\n",
            "  \n",
            "A Circular obriga à guarda de diversos documentos envolvendo a segurança cibernética da\n",
            " 2 / 5\n",
            "Circular SUSEP nº 638/2021: regras sobre segurança cibernética\n",
            "Companhia, que, por força da  Circular SUSEP nº 605/2020 , devem ser armazenados por 5\n",
            "(cinco) anos.\n",
            "  \n",
            "Por fim, embora a Circular entre em vigor em 01/09/2021, as supervisionadas dos segmentos\n",
            "S1 ou S2 (definidos pela  Resolução CNSP nº 388/2020 ) deverão se adequar até 30/06/2022,\n",
            "enquanto as dos segmentos S3 ou S4 possuem prazo até 01/09/2022.\n",
            "Do 51702_26576.pdf:\n",
            "plano ou produto.\n",
            "§ 1º A provisão abrange apenas as rendas atuariais ou ﬁnanceiras a vencer, e\n",
            "deverá ser constituída para as coberturas estruturadas no regime ﬁnanceiro de\n",
            "capitalização ou no regime financeiro de repartição de capitais de cobertura.\n",
            "§ 2º Os valores relativos a rendas vencidas e não pagas constantes da PMBC\n",
            "deverão ser baixados desta e incluídos na PVR.\" (NR)\n",
            " \n",
            "\"Art. 13. A PDR deverá ser constituída para a cobertura dos valores\n",
            "NORMA - Circular 678 (1474711)         SEI 15414.602210/2022-66 / pg. 2\n",
            "esperados a pagar das despesas diretamente relacionadas a sinistros ocorridos relativos a\n",
            "coberturas estruturadas em regime financeiro de repartição simples.\n",
            "§ 1º Consideram-se despesas diretamente relacionadas a sinistros aquelas\n",
            "que, além de poderem ser mensuradas e diretamente relacionadas a sinistros de forma\n",
            "objetiva e conﬁável, representem despesas marginais decorrentes da ocorrência do\n",
            "sinistro.\n",
            "§ 2º A provisão abrange não somente as despesas incorridas e ainda não\n",
            "\n",
            "Responda à seguinte pergunta:\n",
            "Qual prazo do plano de ação?\n",
            "\n"
          ]
        }
      ]
    },
    {
      "cell_type": "code",
      "source": [
        "import os\n",
        "import fitz  # PyMuPDF\n",
        "from rank_bm25 import BM25Okapi\n",
        "from nltk.tokenize import word_tokenize\n",
        "import nltk\n",
        "from langchain.text_splitter import RecursiveCharacterTextSplitter\n",
        "\n",
        "# Certifique-se de que o NLTK está instalado\n",
        "nltk.download('punkt')\n",
        "\n",
        "class Retriever:\n",
        "    def __init__(self, chunk_size, chunk_overlap):\n",
        "        self.chunk_size = chunk_size\n",
        "        self.chunk_overlap = chunk_overlap\n",
        "        self.documentos = []\n",
        "        self.bm25 = None\n",
        "\n",
        "    def extrair_texto_do_pdf(self, pdf_path):\n",
        "        doc = fitz.open(pdf_path)\n",
        "        text = \"\"\n",
        "        for page_num in range(len(doc)):\n",
        "            page = doc.load_page(page_num)\n",
        "            text += page.get_text()\n",
        "        return text\n",
        "\n",
        "    def dividir_texto(self, text):\n",
        "        splitter = RecursiveCharacterTextSplitter(\n",
        "            chunk_size=self.chunk_size,\n",
        "            chunk_overlap=self.chunk_overlap\n",
        "        )\n",
        "        return splitter.split_text(text)\n",
        "\n",
        "    def fit(self, pasta_pdfs):\n",
        "        # Listar todos os arquivos PDF na pasta\n",
        "        arquivos_pdfs = [f for f in os.listdir(pasta_pdfs) if f.endswith('.pdf')]\n",
        "\n",
        "        # Extrair e dividir texto dos PDFs preservando os rótulos\n",
        "        for arquivo_pdf in arquivos_pdfs:\n",
        "            caminho_pdf = os.path.join(pasta_pdfs, arquivo_pdf)\n",
        "            pdf_texto = self.extrair_texto_do_pdf(caminho_pdf)\n",
        "            chunks = self.dividir_texto(pdf_texto)\n",
        "            for chunk in chunks:\n",
        "                self.documentos.append({\"texto\": chunk, \"label\": arquivo_pdf})\n",
        "\n",
        "        # Tokenizar o corpus\n",
        "        documentos_tokenizados = [word_tokenize(doc[\"texto\"].lower()) for doc in self.documentos]\n",
        "\n",
        "        # Inicializar o BM25\n",
        "        self.bm25 = BM25Okapi(documentos_tokenizados)\n",
        "\n",
        "    def query(self, consulta, top_n=5, as_string=False):\n",
        "        # Tokenizar a consulta\n",
        "        consulta_tokenizada = word_tokenize(consulta.lower())\n",
        "\n",
        "        # Obter scores do BM25\n",
        "        scores = self.bm25.get_scores(consulta_tokenizada)\n",
        "\n",
        "        # Ordenar os documentos por score\n",
        "        documentos_classificados = sorted(zip(scores, self.documentos), reverse=True, key=lambda x: x[0])\n",
        "\n",
        "        # Selecionar os top N documentos\n",
        "        top_documentos = [doc for _, doc in documentos_classificados[:top_n]]\n",
        "\n",
        "        if as_string:\n",
        "            resultados = []\n",
        "            for doc in top_documentos:\n",
        "                resultados.append(f\"Do {doc['label']}:\\n{doc['texto']}\\n\")\n",
        "            return \"\\n\".join(resultados)\n",
        "        else:\n",
        "            return top_documentos\n",
        "\n",
        "# Exemplo de uso\n",
        "retriever = Retriever(chunk_size=2000, chunk_overlap=500)\n",
        "retriever.fit(\"./pdfs\")"
      ],
      "metadata": {
        "colab": {
          "base_uri": "https://localhost:8080/"
        },
        "id": "Evw8D6vbhG57",
        "outputId": "6b0f4f01-46c6-4109-9a09-083f94d356b4"
      },
      "execution_count": 42,
      "outputs": [
        {
          "output_type": "stream",
          "name": "stderr",
          "text": [
            "[nltk_data] Downloading package punkt to /root/nltk_data...\n",
            "[nltk_data]   Package punkt is already up-to-date!\n"
          ]
        }
      ]
    },
    {
      "cell_type": "code",
      "source": [
        "consulta = \"Qual prazo do plano de ação?\"\n",
        "resultados = retriever.query(consulta, top_n=5, as_string=False)"
      ],
      "metadata": {
        "id": "SW6ditM6XiDB"
      },
      "execution_count": 46,
      "outputs": []
    },
    {
      "cell_type": "code",
      "source": [
        "resultados"
      ],
      "metadata": {
        "colab": {
          "base_uri": "https://localhost:8080/"
        },
        "id": "asZAkHspXozC",
        "outputId": "eee4b3f2-486b-4380-a768-4078083fc0e7"
      },
      "execution_count": 48,
      "outputs": [
        {
          "output_type": "execute_result",
          "data": {
            "text/plain": [
              "[{'texto': 'do Ofício de recomendações mencionado no art. 1o, prazos para saneamento das \\ndeficiências dos controles internos encontradas. \\n  \\n§ 1o A ausência de manifestação no prazo estipulado no caput sujeitará a \\nsociedade/entidade à aplicação das penalidades cabíveis referentes às deficiências \\nencontradas. \\n \\nFl. 2 da CIRCULAR SUSEP No 340, de 23 de março de 2007. \\n \\n \\n§ 2o  No requerimento enviado à SUSEP deverá constar o plano de ação e o \\nprazo de implementação de cada item de deficiência. \\n  \\n§ 3o  Os prazos para implementação dos planos de ação serão contados a partir \\nda data de protocolo do requerimento na SUSEP. \\n \\n§ 4o  Os prazos para saneamento das deficiências poderão ser diferenciados, em \\nfunção da complexidade para resolução das mesmas. \\n  \\nArt. 3o  Os prazos para saneamento das deficiências não deverão ser maiores que \\n90 (noventa) dias e, na hipótese de requerimento com  prazo superior, a sociedade/entidade \\ndeverá justificar detalhadamente os motivos que impedem a solução da deficiência em \\nprazo inferior, ficando  a critério do Conselho Diretor  da SUSEP o deferimento do pleito. \\n \\nArt. 4o  Caso a sociedade/entidade apresente, em conjunto com o requerimento \\nde que trata o art. 2o, contestação quanto a 1 (uma) ou mais deficiências encontradas, e a \\nSUSEP a(s) considere improcedente(s), a sociedade/entidade será notificada para apresentar \\no(s) plano(s) de ação referente(s) à(s) deficiência(s) contestada(s) em até 30 (trinta) dias, \\ncontados a partir do recebimento do Ofício de notificação. \\n \\nParágrafo único.  Os prazos para implementação dos planos de ação serão \\ncontados a partir da data de protocolo do requerimento na SUSEP. \\n \\nArt. 5o A Auditoria Interna da sociedade/entidade deverá acompanhar a \\nexecução dos planos de ação. \\n \\nParágrafo único.  A sociedade/entidade deverá encaminhar à SUSEP relatório \\nvalidado pela Auditoria Interna caso seja identificado descumprimento dos prazos \\nconstantes dos planos de ação aprovados.',\n",
              "  'label': 'CIRCULAR SUSEP No 340.pdf'},\n",
              " {'texto': 'MINISTÉRIO DA FAZENDA \\nSuperintendência de Seguros Privados \\n \\n \\nCIRCULAR SUSEP No 340, de 23 de março de 2007. \\n \\n \\nDisciplina os parágrafos 1o, 2o e 3o \\ndos artigos 5o, 26 e 33 da Resolução \\nCNSP No 60, de 3 de setembro de \\n2001. \\n \\n \\nO SUPERINTENDENTE SUBSTITUTO DA SUPERINTENDÊNCIA DE \\nSEGUROS PRIVADOS – SUSEP, na forma do art. 36, alíneas “b” e “h”, do Decreto-Lei \\nNo 73, de 21 de novembro de 1966; do § 2o do art. 3o do Decreto-Lei No 261, de 28 de \\nfevereiro de 1967; e do art. 74 da Lei Complementar No 109, de 29 de maio de 2001, e \\nconsiderando o que consta do Processo SUSEP no 15414.005247/2006-21,  \\n \\nR E S O L V E: \\n \\n \\nArt. 1o  Nas fiscalizações que tenham por escopo a avaliação do sistema de \\ncontroles internos, instituído por meio da Circular  SUSEP No 249, de 20 de fevereiro de \\n2004, os servidores designados deverão entregar à sociedade/entidade, ao final da \\nfiscalização, Ofício de recomendações, contendo todas as deficiências de controles \\nencontradas durante os trabalhos. \\n \\nParágrafo único.  Os fatos que caracterizem infração a dispositivo previsto nas \\nResoluções do CNSP, Circulares SUSEP e demais normas que não tenham por objetivo a \\nregulamentação dos sistemas de controles internos das sociedades seguradoras, das \\nsociedades de capitalização e das entidades abertas de previdência complementar serão \\nanalisados em processos apartados. \\n \\nArt. 2o A sociedade/entidade supervisionada poderá requerer ao Chefe do \\nDepartamento de Fiscalização da SUSEP, em até 30 (trinta) dias, contados do recebimento \\ndo Ofício de recomendações mencionado no art. 1o, prazos para saneamento das \\ndeficiências dos controles internos encontradas. \\n  \\n§ 1o A ausência de manifestação no prazo estipulado no caput sujeitará a \\nsociedade/entidade à aplicação das penalidades cabíveis referentes às deficiências \\nencontradas. \\n \\nFl. 2 da CIRCULAR SUSEP No 340, de 23 de março de 2007. \\n \\n \\n§ 2o  No requerimento enviado à SUSEP deverá constar o plano de ação e o',\n",
              "  'label': 'CIRCULAR SUSEP No 340.pdf'},\n",
              " {'texto': 'Parágrafo único.  Os prazos para implementação dos planos de ação serão \\ncontados a partir da data de protocolo do requerimento na SUSEP. \\n \\nArt. 5o A Auditoria Interna da sociedade/entidade deverá acompanhar a \\nexecução dos planos de ação. \\n \\nParágrafo único.  A sociedade/entidade deverá encaminhar à SUSEP relatório \\nvalidado pela Auditoria Interna caso seja identificado descumprimento dos prazos \\nconstantes dos planos de ação aprovados. \\n \\nArt. 6o  Caso as deficiências encontradas não tenham sido saneadas após o \\ntérmino dos  prazos concedidos pela SUSEP, caracterizar-se-ão como irregularidades, e \\nsujeitarão a sociedade/entidade à aplicação das penalidades cabíveis. \\n \\n \\n \\n \\n \\n \\n \\nJOÃO MARCELO M. R. DOS SANTOS \\nSuperintendente Substituto',\n",
              "  'label': 'CIRCULAR SUSEP No 340.pdf'},\n",
              " {'texto': 'Art. 3º A tabela do Anexo I da Circular Susep nº 648, de 2021, passa a\\nvigorar da seguinte forma:\\nNORMA - Circular 678 (1474711)         SEI 15414.602210/2022-66 / pg. 10\\n \\nArt. 4º Na adoção inicial das alterações de políticas contábeis previstas no no\\n§ 5º do art. 43, no § 3º do art. 101 e no art. 125-C da Circular Susep nº 648, de 2021, as\\nsupervisionadas poderão aplicar as mudanças prospectivamente, conforme orientações\\ncontidas em manual específico divulgado no sítio eletrônico da Susep.\\n \\nArt. 5º Ficam revogados os seguintes dispositivos da Circular SUSEP nº 648,\\nde 2021:  \\nI - § 4º do art. 18;\\nII - § 2º do art. 19;\\nIII - §§ 2º, 10 e 11 do art. 43;\\nIV - art. 44;\\nV - inciso V do art. 45;\\nVI - inciso IV do art. 117;\\nVII - inciso XXXI do art. 136;\\nVIII - art. 139; e\\nIX - art. 140.\\n \\nArt. 6º Fica revogado o parágrafo único do art. 4º da Circular Susep nº 439,\\nde 27 de junho de 2012.\\n \\nArt. 7º Esta Circular entra em vigor:\\nNORMA - Circular 678 (1474711)         SEI 15414.602210/2022-66 / pg. 11\\nI - em 2 de janeiro de 2023, para o art. 2º; e\\nII - em 2 de janeiro 2024, para os demais artigos.\\nDocumento assinado eletronicamente por ALEXANDRE MILANESE CAMILLO\\n(MATRÍCULA 3257886), Superintendente da Susep, em 11/10/2022, às\\n19:49, conforme horário oficial de Brasília, com fundamento no § 3º do art. 4º\\ndo Decreto nº 10.543/2020.\\nA autenticidade do documento pode ser conferida no site\\nhttps://sei.susep.gov.br/sei/controlador_externo.php?\\nacao=documento_conferir&acao_origem=documento_conferir&id_orgao_acesso_externo=0\\ninformando o código verificador 1474711 e o código CRC 4DA1ABF7.\\n \\nReferência: Processo nº 15414.602210/2022-66\\nSEI nº 1474711\\nNORMA - Circular 678 (1474711)         SEI 15414.602210/2022-66 / pg. 12',\n",
              "  'label': 'CIRCULAR SUSEP No 678.pdf'},\n",
              " {'texto': 'um plano específico.\\n§ 4º Consideram-se benefícios a regularizar relativos a cobertura por\\nsobrevivência:\\nI - na modalidade benefício deﬁnido, o benefício devido após a sobrevivência\\ndo segurado ou participante ao período de diferimento contratado até o momento do\\npagamento ou da opção do segurado ou participante de receber o benefício na forma de\\nrenda; e\\nII - na modalidade contribuição variável, o benefício solicitado devido e por\\nqualquer motivo ainda não pago, ressalvado os casos previstos no § 3º do art. 10, em que\\ndeverá ser considerada como referência o momento da cotização do resgate no fundo.\\n§ 5º O fato gerador da baixa da PVR é:\\nI - o pagamento, caracterizado  quando da liquidação ﬁnanceira, do\\nrecebimento do comprovante de pagamento da obrigação, ou conforme os demais casos\\nprevistos em lei;\\nII -  a alocação da portabilidade recebida ao plano específico;\\nIII - a cotização de prêmios recebidos; e\\nIV - a opção do segurado/participante em receber renda, nas coberturas por\\nsobrevivência na modalidade benefício definido.\" (NR)\\n \\n\"Art. 17. ..............................\\n.............................................\\nVII - Provisão de Receitas Diferidas (PRD).\" (NR)\\n \\nNORMA - Circular 678 (1474711)         SEI 15414.602210/2022-66 / pg. 3\\n\"Art. 18. ..............................\\n§ 1º O fato gerador da constituição da provisão é o pagamento ou a\\ninformação de pagamento da contribuição pelo subscritor.\\n.............................................\\n§ 3º Quando não conhecida a data de aquisição, será utilizada a data de início\\nde comercialização da série, desde que o prazo de comercialização da série não ultrapasse\\nsessenta dias.\" (NR)\\n \\n\"Art. 24. A PRD deverá ser constituída para o diferimento de receitas dos\\ntítulos pelas sociedades de capitalização.\" (NR)\\n \\n\"Art. 26. ..............................\\n.............................................\\nVII - Provisão de Despesas Relacionadas a Produtos Estruturados em Regime\\nFinanceiro de Repartição Simples (PDR);',\n",
              "  'label': 'CIRCULAR SUSEP No 678.pdf'}]"
            ]
          },
          "metadata": {},
          "execution_count": 48
        }
      ]
    },
    {
      "cell_type": "code",
      "source": [],
      "metadata": {
        "id": "VBy9ya5CXp7U"
      },
      "execution_count": null,
      "outputs": []
    }
  ]
}